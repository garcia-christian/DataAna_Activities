{
  "nbformat": 4,
  "nbformat_minor": 0,
  "metadata": {
    "colab": {
      "name": " Data Preprocessing Part 1 - Garcia.ipynb",
      "provenance": [],
      "collapsed_sections": [],
      "authorship_tag": "ABX9TyONbe+4o47/NZxH1mfZRuAF",
      "include_colab_link": true
    },
    "kernelspec": {
      "name": "python3",
      "display_name": "Python 3"
    },
    "language_info": {
      "name": "python"
    }
  },
  "cells": [
    {
      "cell_type": "markdown",
      "metadata": {
        "id": "view-in-github",
        "colab_type": "text"
      },
      "source": [
        "<a href=\"https://colab.research.google.com/github/garcia-christian/DataAna_Activities/blob/main/Data_Preprocessing_Part_1_Garcia.ipynb\" target=\"_parent\"><img src=\"https://colab.research.google.com/assets/colab-badge.svg\" alt=\"Open In Colab\"/></a>"
      ]
    },
    {
      "cell_type": "markdown",
      "metadata": {
        "id": "OHxzMBzGQsFb"
      },
      "source": [
        "In your notebook, import the necessary libraries"
      ]
    },
    {
      "cell_type": "code",
      "metadata": {
        "id": "JmbZAugGQVX7"
      },
      "source": [
        "import numpy as np\n",
        "import pandas as pd"
      ],
      "execution_count": null,
      "outputs": []
    },
    {
      "cell_type": "markdown",
      "metadata": {
        "id": "v89RbDfVRkoS"
      },
      "source": [
        " Create a DataFrame object named df_data.\n",
        "Load the Time Series Dataset 2.xlsx into your DataFrame object\n",
        "\n",
        "\n"
      ]
    },
    {
      "cell_type": "code",
      "metadata": {
        "id": "8z9Hi7v7RjJk"
      },
      "source": [
        "df_data = pd.read_excel('Time Series Dataset 2.xlsx')"
      ],
      "execution_count": null,
      "outputs": []
    },
    {
      "cell_type": "markdown",
      "metadata": {
        "id": "r0IXsef5SdVV"
      },
      "source": [
        "Look for missing values in the store_type column and replace it with \"none\""
      ]
    },
    {
      "cell_type": "code",
      "metadata": {
        "id": "pT-yA_NCSfrG"
      },
      "source": [
        "store_type = df_data['store_type']"
      ],
      "execution_count": null,
      "outputs": []
    },
    {
      "cell_type": "code",
      "metadata": {
        "id": "mHg7aN3GSzOO"
      },
      "source": [
        "print(store_type.head(50))"
      ],
      "execution_count": null,
      "outputs": []
    },
    {
      "cell_type": "code",
      "metadata": {
        "id": "PhdNbWk7S7Do"
      },
      "source": [
        "store_type.fillna(\"none\",inplace=True)"
      ],
      "execution_count": null,
      "outputs": []
    },
    {
      "cell_type": "code",
      "metadata": {
        "id": "V4yRYPlWTGx-"
      },
      "source": [
        "print(store_type.head(50))"
      ],
      "execution_count": null,
      "outputs": []
    },
    {
      "cell_type": "markdown",
      "metadata": {
        "id": "83x6BkXYTQ9c"
      },
      "source": [
        "Create a dictionary to contain all the possible values for the store_type without the underscores"
      ]
    },
    {
      "cell_type": "code",
      "metadata": {
        "id": "0SXq9Fc9TQWK"
      },
      "source": [
        "data = {'store_type': {'small_medium_shop': 'small medium shop',\n",
        "           'specialized_shop': 'specialized shop',\n",
        "           'private_service_provider': 'pivate service provider',\n",
        "           'public_semi_public_service': 'publi semi public service',\n",
        "           'bulk_discount_shop': 'bulk discount shop',\n",
        "           'street_outlet': 'street outlet'}}"
      ],
      "execution_count": null,
      "outputs": []
    },
    {
      "cell_type": "code",
      "metadata": {
        "id": "jlSCVhIDUkpb"
      },
      "source": [
        "df_data = df_data.replace(data)"
      ],
      "execution_count": null,
      "outputs": []
    },
    {
      "cell_type": "code",
      "metadata": {
        "colab": {
          "base_uri": "https://localhost:8080/"
        },
        "id": "JChvwrUCb1jL",
        "outputId": "2a1e8fb6-71d8-428a-ea78-bdc3e18d6923"
      },
      "source": [
        "print(df_data['store_type'].head(50))"
      ],
      "execution_count": null,
      "outputs": [
        {
          "output_type": "stream",
          "name": "stdout",
          "text": [
            "0                       other\n",
            "1           small medium shop\n",
            "2            specialized shop\n",
            "3            specialized shop\n",
            "4                        none\n",
            "5                        none\n",
            "6           small medium shop\n",
            "7           small medium shop\n",
            "8     pivate service provider\n",
            "9            specialized shop\n",
            "10          small medium shop\n",
            "11           specialized shop\n",
            "12          small medium shop\n",
            "13          small medium shop\n",
            "14                       none\n",
            "15          small medium shop\n",
            "16           specialized shop\n",
            "17          small medium shop\n",
            "18           specialized shop\n",
            "19    pivate service provider\n",
            "20                       none\n",
            "21                     market\n",
            "22           specialized shop\n",
            "23          small medium shop\n",
            "24                       none\n",
            "25                       none\n",
            "26    pivate service provider\n",
            "27          small medium shop\n",
            "28                       none\n",
            "29                       none\n",
            "30                       none\n",
            "31          small medium shop\n",
            "32    pivate service provider\n",
            "33    pivate service provider\n",
            "34          small medium shop\n",
            "35                       none\n",
            "36          small medium shop\n",
            "37          small medium shop\n",
            "38                       none\n",
            "39           specialized shop\n",
            "40           specialized shop\n",
            "41                       none\n",
            "42                       none\n",
            "43                       none\n",
            "44          small medium shop\n",
            "45          small medium shop\n",
            "46          small medium shop\n",
            "47          small medium shop\n",
            "48           specialized shop\n",
            "49          small medium shop\n",
            "Name: store_type, dtype: object\n"
          ]
        }
      ]
    },
    {
      "cell_type": "markdown",
      "metadata": {
        "id": "NOnkleYvcQAG"
      },
      "source": [
        "Print the total number of records"
      ]
    },
    {
      "cell_type": "code",
      "metadata": {
        "colab": {
          "base_uri": "https://localhost:8080/"
        },
        "id": "dZXaReQ-cJV5",
        "outputId": "e9e5560d-9457-407a-a7b8-7e2aa6143ec0"
      },
      "source": [
        "print(\"Total Number of Records:\\n\",df_data.count())"
      ],
      "execution_count": null,
      "outputs": [
        {
          "output_type": "stream",
          "name": "stdout",
          "text": [
            "Total Number of Records:\n",
            " item_name     6000\n",
            "item_code     6000\n",
            "created_at    6000\n",
            "size          6000\n",
            "quantity      6000\n",
            "price         6000\n",
            "store_type    6000\n",
            "dtype: int64\n"
          ]
        }
      ]
    },
    {
      "cell_type": "markdown",
      "metadata": {
        "id": "Yfi2WZWjdoyJ"
      },
      "source": [
        " Print the number of records which doesn't belong into any of the store types."
      ]
    },
    {
      "cell_type": "code",
      "metadata": {
        "colab": {
          "base_uri": "https://localhost:8080/"
        },
        "id": "OkdOSC_OdIKW",
        "outputId": "a258344b-7bf5-4c46-8b78-af1907fe1f77"
      },
      "source": [
        "storecn = df_data.loc[(df_data['store_type']=='none') | (df_data['store_type']=='None')].count()\n",
        "print(\"number of records which doesn't belong into any of the store types:\\n\",storecn)\n",
        "\n"
      ],
      "execution_count": null,
      "outputs": [
        {
          "output_type": "stream",
          "name": "stdout",
          "text": [
            "number of records which doesn't belong into any of the store types:\n",
            " item_name     1769\n",
            "item_code     1769\n",
            "created_at    1769\n",
            "size          1769\n",
            "quantity      1769\n",
            "price         1769\n",
            "store_type    1769\n",
            "dtype: int64\n"
          ]
        }
      ]
    },
    {
      "cell_type": "markdown",
      "metadata": {
        "id": "58LWGo2quP-l"
      },
      "source": [
        "Print the records which doesn't belong into any of the store types"
      ]
    },
    {
      "cell_type": "code",
      "metadata": {
        "colab": {
          "base_uri": "https://localhost:8080/"
        },
        "id": "mTcOT-FiulRo",
        "outputId": "8dcb56db-b757-4aa6-9e05-b2f999396596"
      },
      "source": [
        "store = df_data.loc[(df_data['store_type']=='none') | (df_data['store_type']=='None')]\n",
        "print(store.head(50))"
      ],
      "execution_count": null,
      "outputs": [
        {
          "output_type": "stream",
          "name": "stdout",
          "text": [
            "                                      item_name  item_code  ...    price  store_type\n",
            "4               Jam, strawberry or apricot, WKB  110118201  ...    42.90        none\n",
            "5          Dinner plate, flat, porcelain, WKB-L  110541104  ...   145.00        none\n",
            "14              Water, still, large bottle, WKB  110122101  ...     9.59        none\n",
            "20                  Milk, fresh, unskimmed, WKB  110114101  ...    15.12        none\n",
            "24                                 Fresh onions  110117104  ...    26.59        none\n",
            "25                      Fresh bananas, standard  110116102  ...    21.90        none\n",
            "28                   Foam mattress, double, WKB  110511108  ...  4090.00        none\n",
            "29                   Potato chips (crisps), WKB  110117304  ...    29.10        none\n",
            "30              Cornflakes, excluding KELLOGG'S  110111250  ...    29.69        none\n",
            "35                            Cooking salt, WKB  110119102  ...    12.50        none\n",
            "38                               Fresh cucumber  110117101  ...    39.99        none\n",
            "41            Plaster strips, plastic foil, WKB  110612105  ...    34.20        none\n",
            "42             Instant coffee, NESCAFE Classic   110121102  ...   109.99        none\n",
            "43                 Toilet paper, multipack, WKB  111212111  ...    63.99        none\n",
            "52                      Milk chocolate bar, WKB  110118301  ...    34.00        none\n",
            "60            Plaster strips, plastic foil, WKB  110612105  ...    37.00        none\n",
            "62            Plaster strips, plastic foil, WKB  110612105  ...    36.00        none\n",
            "69                                Fresh oranges  110116105  ...    39.90        none\n",
            "79                      Fresh bananas, standard  110116102  ...    24.99        none\n",
            "81                   Dishwashing detergent, WKB  110561108  ...    30.99        none\n",
            "82   Interurban transport, single ticket, 50 km  110731101  ...     5.00        None\n",
            "91                           Cat food, tin, WKB  110933103  ...    37.19        none\n",
            "92                      Men's blue jeans, WKB-L  110312107  ...   790.00        none\n",
            "95          Long-grain rice, not parboiled, WKB  110111102  ...    10.50        none\n",
            "96                   Men's lace-up shoes, WKB-L  110321101  ...  1000.00        none\n",
            "98                          Tomato ketchup, WKB  110119103  ...    43.00        none\n",
            "99                      Men's blue jeans, WKB-L  110312107  ...   649.00        none\n",
            "102                            White sugar, WKB  110118101  ...    14.53        none\n",
            "103          Energy saving light bulb, 15W, WKB  110552103  ...    94.90        none\n",
            "110                      Trolley, soft case, BL  111232104  ...   999.00        none\n",
            "114                          Men's shirt, WKB-M  110312103  ...   549.00        none\n",
            "115                           Sunflower oil, BL  110115301  ...    34.12        none\n",
            "125  Interurban transport, single ticket, 50 km  110731101  ...   300.00        None\n",
            "127         Long-grain rice, not parboiled, WKB  110111102  ...    15.69        none\n",
            "128              Microwave oven, 16-22 l, WKB-L  110531103  ...  3061.00        none\n",
            "129                    Red wine, table wine, BL  110212101  ...    37.45        none\n",
            "133                   Bread, white, sliced, WKB  110111305  ...    44.49        none\n",
            "134                           Cooking salt, WKB  110119102  ...    10.35        none\n",
            "138             Water, still, large bottle, WKB  110122101  ...    10.20        none\n",
            "145                Olive oil, extra virgin, WKB  110115302  ...    85.25        none\n",
            "146                  Men's lace-up shoes, WKB-L  110321101  ...   950.00        none\n",
            "147           Plaster strips, plastic foil, WKB  110612105  ...    41.00        none\n",
            "152                               Fresh carrots  110117103  ...    34.90        none\n",
            "160      Men's sport shoes, ADIDAS, ASICS, NIKE  110321103  ...  1390.00        none\n",
            "162    Urban tram (rail) or tube, single ticket  110731104  ...     3.00        None\n",
            "170                      Bath towel, large, WKB  110521103  ...   259.00        none\n",
            "171            Wheat flour, not self-rising, BL  110111202  ...     6.62        none\n",
            "173  Interurban transport, single ticket, 50 km  110731101  ...   270.00        None\n",
            "175                     Bread, whole wheat, WKB  110111303  ...    50.50        none\n",
            "176                  Men's lace-up shoes, WKB-L  110321101  ...  2150.00        none\n",
            "\n",
            "[50 rows x 7 columns]\n"
          ]
        }
      ]
    }
  ]
}