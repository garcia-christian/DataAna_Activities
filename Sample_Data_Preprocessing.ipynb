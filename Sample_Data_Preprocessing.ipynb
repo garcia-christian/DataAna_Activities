{
  "nbformat": 4,
  "nbformat_minor": 0,
  "metadata": {
    "colab": {
      "name": "Sample Data Preprocessing.ipynb",
      "provenance": [],
      "collapsed_sections": [],
      "authorship_tag": "ABX9TyMkR5C59ovVNLVMsVGdtE6e",
      "include_colab_link": true
    },
    "kernelspec": {
      "name": "python3",
      "display_name": "Python 3"
    },
    "language_info": {
      "name": "python"
    }
  },
  "cells": [
    {
      "cell_type": "markdown",
      "metadata": {
        "id": "view-in-github",
        "colab_type": "text"
      },
      "source": [
        "<a href=\"https://colab.research.google.com/github/garcia-christian/DataAna_Activities/blob/main/Sample_Data_Preprocessing.ipynb\" target=\"_parent\"><img src=\"https://colab.research.google.com/assets/colab-badge.svg\" alt=\"Open In Colab\"/></a>"
      ]
    },
    {
      "cell_type": "markdown",
      "metadata": {
        "id": "-xqFScHIpmuE"
      },
      "source": [
        "TLA #9 - Data Cleaning using Python"
      ]
    },
    {
      "cell_type": "markdown",
      "metadata": {
        "id": "a1XOM404qbGj"
      },
      "source": [
        " import the necessary libraries"
      ]
    },
    {
      "cell_type": "code",
      "metadata": {
        "id": "LWqDmDa53LZq"
      },
      "source": [
        "import numpy as np\n",
        "import pandas as pd\n"
      ],
      "execution_count": null,
      "outputs": []
    },
    {
      "cell_type": "markdown",
      "metadata": {
        "id": "luSdQwqaqpb_"
      },
      "source": [
        "DataFrame object named df_data\n",
        "Load the Housing.xlsx into your DataFrame\n",
        "\n"
      ]
    },
    {
      "cell_type": "code",
      "metadata": {
        "id": "4Q15aEDPqsx_"
      },
      "source": [
        "df_data = pd.read_excel('Housing.xlsx')"
      ],
      "execution_count": null,
      "outputs": []
    },
    {
      "cell_type": "code",
      "metadata": {
        "colab": {
          "base_uri": "https://localhost:8080/"
        },
        "id": "w1F7__i61RjO",
        "outputId": "64bd7472-1f72-4b16-e93d-40a298529db9"
      },
      "source": [
        "print(df_data)"
      ],
      "execution_count": null,
      "outputs": [
        {
          "output_type": "stream",
          "name": "stdout",
          "text": [
            "      id     price  bedrooms  ...     long  sqft_living15  sqft_lot15\n",
            "0    111  221900.0         3  ... -122.257           1340        5650\n",
            "1    112  538000.0         3  ... -122.319           1690        7639\n",
            "2    113  180000.0         2  ... -122.233           2720        8062\n",
            "3    114  604000.0         4  ... -122.393           1360        5000\n",
            "4    115  510000.0         3  ... -122.045           1800        7503\n",
            "..   ...       ...       ...  ...      ...            ...         ...\n",
            "494  605  397500.0         3  ... -122.216           1660        6600\n",
            "495  606  490000.0         2  ... -122.301           1240        1350\n",
            "496  607  725000.0         4  ... -122.387           1440        4420\n",
            "497  608  299000.0         3  ... -122.284           2424       12410\n",
            "498  609  625000.0         2  ... -122.390           1590        4025\n",
            "\n",
            "[499 rows x 18 columns]\n"
          ]
        }
      ]
    },
    {
      "cell_type": "markdown",
      "metadata": {
        "id": "FeNJm9tXv9y1"
      },
      "source": [
        "check the condition column for trailing spaces"
      ]
    },
    {
      "cell_type": "code",
      "metadata": {
        "id": "vNSNHmM7pl9h",
        "colab": {
          "base_uri": "https://localhost:8080/"
        },
        "outputId": "e29a45b4-25ed-407f-fb40-6a8975f90355"
      },
      "source": [
        "condition = df_data['condition']\n",
        "print(condition.head(50))"
      ],
      "execution_count": null,
      "outputs": [
        {
          "output_type": "stream",
          "name": "stdout",
          "text": [
            "0        average\n",
            "1        average\n",
            "2        average\n",
            "3     devastated\n",
            "4        average\n",
            "5        average\n",
            "6        average\n",
            "7        average\n",
            "8        average\n",
            "9        average\n",
            "10       average\n",
            "11           bad\n",
            "12           bad\n",
            "13        bad   \n",
            "14       average\n",
            "15       average\n",
            "16       average\n",
            "17           bad\n",
            "18           bad\n",
            "19        bad   \n",
            "20           bad\n",
            "21       average\n",
            "22       average\n",
            "23       average\n",
            "24           bad\n",
            "25    devastated\n",
            "26       average\n",
            "27    devastated\n",
            "28       average\n",
            "29       average\n",
            "30       average\n",
            "31       average\n",
            "32           bad\n",
            "33           bad\n",
            "34       average\n",
            "35       average\n",
            "36     excellent\n",
            "37           bad\n",
            "38          good\n",
            "39       average\n",
            "40       average\n",
            "41       average\n",
            "42       average\n",
            "43       average\n",
            "44           bad\n",
            "45       average\n",
            "46       average\n",
            "47           bad\n",
            "48        bad   \n",
            "49    devastated\n",
            "Name: condition, dtype: object\n"
          ]
        }
      ]
    },
    {
      "cell_type": "markdown",
      "metadata": {
        "id": "ytMgnyU0v9ol"
      },
      "source": [
        "have it removed using the strip() function"
      ]
    },
    {
      "cell_type": "code",
      "metadata": {
        "id": "t7pYcWFkW6pu"
      },
      "source": [
        "df_data['condition'] = condition.str.strip()"
      ],
      "execution_count": null,
      "outputs": []
    },
    {
      "cell_type": "code",
      "metadata": {
        "colab": {
          "base_uri": "https://localhost:8080/"
        },
        "id": "lVZWeSfqAbZV",
        "outputId": "c102ca9a-634e-494b-8474-3302d20039c1"
      },
      "source": [
        "print(df_data['condition'].head(50))"
      ],
      "execution_count": null,
      "outputs": [
        {
          "output_type": "stream",
          "name": "stdout",
          "text": [
            "0        average\n",
            "1        average\n",
            "2        average\n",
            "3     devastated\n",
            "4        average\n",
            "5        average\n",
            "6        average\n",
            "7        average\n",
            "8        average\n",
            "9        average\n",
            "10       average\n",
            "11           bad\n",
            "12           bad\n",
            "13           bad\n",
            "14       average\n",
            "15       average\n",
            "16       average\n",
            "17           bad\n",
            "18           bad\n",
            "19           bad\n",
            "20           bad\n",
            "21       average\n",
            "22       average\n",
            "23       average\n",
            "24           bad\n",
            "25    devastated\n",
            "26       average\n",
            "27    devastated\n",
            "28       average\n",
            "29       average\n",
            "30       average\n",
            "31       average\n",
            "32           bad\n",
            "33           bad\n",
            "34       average\n",
            "35       average\n",
            "36     excellent\n",
            "37           bad\n",
            "38          good\n",
            "39       average\n",
            "40       average\n",
            "41       average\n",
            "42       average\n",
            "43       average\n",
            "44           bad\n",
            "45       average\n",
            "46       average\n",
            "47           bad\n",
            "48           bad\n",
            "49    devastated\n",
            "Name: condition, dtype: object\n"
          ]
        }
      ]
    },
    {
      "cell_type": "markdown",
      "metadata": {
        "id": "W3-nLmiRM-35"
      },
      "source": [
        "check the yr_renovated, look for missing values"
      ]
    },
    {
      "cell_type": "code",
      "metadata": {
        "id": "HeyUtpiHCfCp"
      },
      "source": [
        "yr_renovated = df_data['yr_renovated']"
      ],
      "execution_count": null,
      "outputs": []
    },
    {
      "cell_type": "code",
      "metadata": {
        "colab": {
          "base_uri": "https://localhost:8080/"
        },
        "id": "ELcZMGzqCsS8",
        "outputId": "819ca8af-b3e1-4b03-cb98-227ebecafa8e"
      },
      "source": [
        "print(\"Number of missing values:\",df_data['yr_renovated'].isnull().sum())\n",
        "print(yr_renovated.head(50))\n"
      ],
      "execution_count": null,
      "outputs": [
        {
          "output_type": "stream",
          "name": "stdout",
          "text": [
            "Number of missing values: 473\n",
            "0        NaN\n",
            "1     1991.0\n",
            "2        NaN\n",
            "3        NaN\n",
            "4        NaN\n",
            "5        NaN\n",
            "6        NaN\n",
            "7        NaN\n",
            "8        NaN\n",
            "9        NaN\n",
            "10       NaN\n",
            "11       NaN\n",
            "12       NaN\n",
            "13       NaN\n",
            "14       NaN\n",
            "15       NaN\n",
            "16       NaN\n",
            "17       NaN\n",
            "18       NaN\n",
            "19       NaN\n",
            "20       NaN\n",
            "21       NaN\n",
            "22       NaN\n",
            "23       NaN\n",
            "24       NaN\n",
            "25       NaN\n",
            "26       NaN\n",
            "27       NaN\n",
            "28       NaN\n",
            "29       NaN\n",
            "30       NaN\n",
            "31       NaN\n",
            "32       NaN\n",
            "33       NaN\n",
            "34       NaN\n",
            "35    2002.0\n",
            "36       NaN\n",
            "37       NaN\n",
            "38       NaN\n",
            "39       NaN\n",
            "40       NaN\n",
            "41       NaN\n",
            "42       NaN\n",
            "43       NaN\n",
            "44       NaN\n",
            "45       NaN\n",
            "46       NaN\n",
            "47       NaN\n",
            "48       NaN\n",
            "49       NaN\n",
            "Name: yr_renovated, dtype: float64\n"
          ]
        }
      ]
    },
    {
      "cell_type": "markdown",
      "metadata": {
        "id": "EPjwvm8gNKXk"
      },
      "source": [
        "replace it with 0 using the fillna() function"
      ]
    },
    {
      "cell_type": "code",
      "metadata": {
        "id": "-7KV0yEMC9uL"
      },
      "source": [
        "yr_renovated.fillna(0,inplace=True)"
      ],
      "execution_count": null,
      "outputs": []
    },
    {
      "cell_type": "code",
      "metadata": {
        "colab": {
          "base_uri": "https://localhost:8080/"
        },
        "id": "vl13uqYnDueE",
        "outputId": "b9391f4f-758c-4a80-a96d-349da8f7edf2"
      },
      "source": [
        "print(yr_renovated.head(50))"
      ],
      "execution_count": null,
      "outputs": [
        {
          "output_type": "stream",
          "name": "stdout",
          "text": [
            "0        0.0\n",
            "1     1991.0\n",
            "2        0.0\n",
            "3        0.0\n",
            "4        0.0\n",
            "5        0.0\n",
            "6        0.0\n",
            "7        0.0\n",
            "8        0.0\n",
            "9        0.0\n",
            "10       0.0\n",
            "11       0.0\n",
            "12       0.0\n",
            "13       0.0\n",
            "14       0.0\n",
            "15       0.0\n",
            "16       0.0\n",
            "17       0.0\n",
            "18       0.0\n",
            "19       0.0\n",
            "20       0.0\n",
            "21       0.0\n",
            "22       0.0\n",
            "23       0.0\n",
            "24       0.0\n",
            "25       0.0\n",
            "26       0.0\n",
            "27       0.0\n",
            "28       0.0\n",
            "29       0.0\n",
            "30       0.0\n",
            "31       0.0\n",
            "32       0.0\n",
            "33       0.0\n",
            "34       0.0\n",
            "35    2002.0\n",
            "36       0.0\n",
            "37       0.0\n",
            "38       0.0\n",
            "39       0.0\n",
            "40       0.0\n",
            "41       0.0\n",
            "42       0.0\n",
            "43       0.0\n",
            "44       0.0\n",
            "45       0.0\n",
            "46       0.0\n",
            "47       0.0\n",
            "48       0.0\n",
            "49       0.0\n",
            "Name: yr_renovated, dtype: float64\n"
          ]
        }
      ]
    },
    {
      "cell_type": "code",
      "metadata": {
        "id": "72vpTg9ZFsge"
      },
      "source": [
        "df_data['yr_renovated'] = yr_renovated"
      ],
      "execution_count": null,
      "outputs": []
    },
    {
      "cell_type": "code",
      "metadata": {
        "colab": {
          "base_uri": "https://localhost:8080/"
        },
        "id": "-2QNqDOraQXp",
        "outputId": "bb4b7241-1c1c-4abf-a065-053a61be310b"
      },
      "source": [
        "print(df_data['yr_renovated'])"
      ],
      "execution_count": null,
      "outputs": [
        {
          "output_type": "stream",
          "name": "stdout",
          "text": [
            "0         0.0\n",
            "1      1991.0\n",
            "2         0.0\n",
            "3         0.0\n",
            "4         0.0\n",
            "        ...  \n",
            "494       0.0\n",
            "495       0.0\n",
            "496    2003.0\n",
            "497       0.0\n",
            "498       0.0\n",
            "Name: yr_renovated, Length: 499, dtype: float64\n"
          ]
        }
      ]
    },
    {
      "cell_type": "markdown",
      "metadata": {
        "id": "kfyd1u5TNa2G"
      },
      "source": [
        "check the price column, look for missing values"
      ]
    },
    {
      "cell_type": "code",
      "metadata": {
        "id": "uLcC3ra_FChS"
      },
      "source": [
        "price = df_data['price']"
      ],
      "execution_count": null,
      "outputs": []
    },
    {
      "cell_type": "code",
      "metadata": {
        "colab": {
          "base_uri": "https://localhost:8080/"
        },
        "id": "syT-zuhBFOI3",
        "outputId": "58ee78f9-2dc7-4b23-d19e-ec3aef0ec1d4"
      },
      "source": [
        "print(\"Number of missing values:\",df_data['price'].isnull().sum())\n",
        "print( df_data['price'].head(50))"
      ],
      "execution_count": null,
      "outputs": [
        {
          "output_type": "stream",
          "name": "stdout",
          "text": [
            "Number of missing values: 41\n",
            "0     221900.0\n",
            "1     538000.0\n",
            "2     180000.0\n",
            "3     604000.0\n",
            "4     510000.0\n",
            "5          NaN\n",
            "6     257500.0\n",
            "7     291850.0\n",
            "8     229500.0\n",
            "9     323000.0\n",
            "10    662500.0\n",
            "11    468000.0\n",
            "12    310000.0\n",
            "13    400000.0\n",
            "14    530000.0\n",
            "15    650000.0\n",
            "16    395000.0\n",
            "17    485000.0\n",
            "18    189000.0\n",
            "19    230000.0\n",
            "20    385000.0\n",
            "21         NaN\n",
            "22    285000.0\n",
            "23    252700.0\n",
            "24    329000.0\n",
            "25    233000.0\n",
            "26    937000.0\n",
            "27    667000.0\n",
            "28    438000.0\n",
            "29    719000.0\n",
            "30    580500.0\n",
            "31    280000.0\n",
            "32    687500.0\n",
            "33    535000.0\n",
            "34    322500.0\n",
            "35    696000.0\n",
            "36    550000.0\n",
            "37    640000.0\n",
            "38    240000.0\n",
            "39    605000.0\n",
            "40    625000.0\n",
            "41         NaN\n",
            "42    861990.0\n",
            "43    685000.0\n",
            "44         NaN\n",
            "45    488000.0\n",
            "46    210490.0\n",
            "47    785000.0\n",
            "48    450000.0\n",
            "49         NaN\n",
            "Name: price, dtype: float64\n"
          ]
        }
      ]
    },
    {
      "cell_type": "markdown",
      "metadata": {
        "id": "zX_tZbw7ODgj"
      },
      "source": [
        "replace it with the average price using the mean() function"
      ]
    },
    {
      "cell_type": "code",
      "metadata": {
        "id": "R-b2MxaRFlHN"
      },
      "source": [
        "price.fillna(price.mean(),inplace=True)"
      ],
      "execution_count": null,
      "outputs": []
    },
    {
      "cell_type": "code",
      "metadata": {
        "colab": {
          "base_uri": "https://localhost:8080/"
        },
        "id": "QU3spS-BGtnC",
        "outputId": "b9c5c5d3-6444-4b6a-c089-9cd4ff4795e2"
      },
      "source": [
        "print(price.mean())"
      ],
      "execution_count": null,
      "outputs": [
        {
          "output_type": "stream",
          "name": "stdout",
          "text": [
            "456766.2751091704\n"
          ]
        }
      ]
    },
    {
      "cell_type": "code",
      "metadata": {
        "id": "nMkiVKTZJ7w-"
      },
      "source": [
        "df_data['price'] = price.round(2)"
      ],
      "execution_count": null,
      "outputs": []
    },
    {
      "cell_type": "code",
      "metadata": {
        "colab": {
          "base_uri": "https://localhost:8080/"
        },
        "id": "bBOPSaWHLbsk",
        "outputId": "b702df12-50fe-4d81-e697-8187035d15a5"
      },
      "source": [
        "print(df_data['price'].head(50))"
      ],
      "execution_count": null,
      "outputs": [
        {
          "output_type": "stream",
          "name": "stdout",
          "text": [
            "0     221900.00\n",
            "1     538000.00\n",
            "2     180000.00\n",
            "3     604000.00\n",
            "4     510000.00\n",
            "5     456766.28\n",
            "6     257500.00\n",
            "7     291850.00\n",
            "8     229500.00\n",
            "9     323000.00\n",
            "10    662500.00\n",
            "11    468000.00\n",
            "12    310000.00\n",
            "13    400000.00\n",
            "14    530000.00\n",
            "15    650000.00\n",
            "16    395000.00\n",
            "17    485000.00\n",
            "18    189000.00\n",
            "19    230000.00\n",
            "20    385000.00\n",
            "21    456766.28\n",
            "22    285000.00\n",
            "23    252700.00\n",
            "24    329000.00\n",
            "25    233000.00\n",
            "26    937000.00\n",
            "27    667000.00\n",
            "28    438000.00\n",
            "29    719000.00\n",
            "30    580500.00\n",
            "31    280000.00\n",
            "32    687500.00\n",
            "33    535000.00\n",
            "34    322500.00\n",
            "35    696000.00\n",
            "36    550000.00\n",
            "37    640000.00\n",
            "38    240000.00\n",
            "39    605000.00\n",
            "40    625000.00\n",
            "41    456766.28\n",
            "42    861990.00\n",
            "43    685000.00\n",
            "44    456766.28\n",
            "45    488000.00\n",
            "46    210490.00\n",
            "47    785000.00\n",
            "48    450000.00\n",
            "49    456766.28\n",
            "Name: price, dtype: float64\n"
          ]
        }
      ]
    }
  ]
}