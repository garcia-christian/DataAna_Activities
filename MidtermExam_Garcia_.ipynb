{
  "nbformat": 4,
  "nbformat_minor": 0,
  "metadata": {
    "colab": {
      "name": " MidtermExam-Garcia .ipynb",
      "provenance": [],
      "collapsed_sections": [],
      "toc_visible": true,
      "authorship_tag": "ABX9TyPXYIqObZ+lA7i+hXltOCg0",
      "include_colab_link": true
    },
    "kernelspec": {
      "name": "python3",
      "display_name": "Python 3"
    },
    "language_info": {
      "name": "python"
    }
  },
  "cells": [
    {
      "cell_type": "markdown",
      "metadata": {
        "id": "view-in-github",
        "colab_type": "text"
      },
      "source": [
        "<a href=\"https://colab.research.google.com/github/garcia-christian/DataAna_Activities/blob/main/MidtermExam_Garcia_.ipynb\" target=\"_parent\"><img src=\"https://colab.research.google.com/assets/colab-badge.svg\" alt=\"Open In Colab\"/></a>"
      ]
    },
    {
      "cell_type": "markdown",
      "metadata": {
        "id": "a42TCHhiSYRL"
      },
      "source": [
        "# Part I"
      ]
    },
    {
      "cell_type": "markdown",
      "metadata": {
        "id": "yGRTOHZaLO4F"
      },
      "source": [
        "We need to import numpy and pandas before we can start our preprocessing"
      ]
    },
    {
      "cell_type": "code",
      "metadata": {
        "id": "__rNJ2QSPrwK"
      },
      "source": [
        "import numpy as np\n",
        "import pandas as pd"
      ],
      "execution_count": null,
      "outputs": []
    },
    {
      "cell_type": "markdown",
      "metadata": {
        "id": "p9eLobqgbWIu"
      },
      "source": [
        "A.  using pd.read_excel we imported the ('Online Retail.xlsx') to retail_frame object"
      ]
    },
    {
      "cell_type": "code",
      "metadata": {
        "id": "qQfaQgmiQ52P"
      },
      "source": [
        "retail_frame = pd.read_excel('Online Retail.xlsx')"
      ],
      "execution_count": 7,
      "outputs": []
    },
    {
      "cell_type": "markdown",
      "metadata": {
        "id": "VhhF-nIJbYDN"
      },
      "source": [
        "B. To identify missing values we used isnull() and used sum() to add the number of missing values."
      ]
    },
    {
      "cell_type": "code",
      "metadata": {
        "colab": {
          "base_uri": "https://localhost:8080/"
        },
        "id": "fuUwMNr2SFrt",
        "outputId": "e8e55573-e176-4000-9df8-37062fa74f4d"
      },
      "source": [
        "print(retail_frame.isnull().sum())"
      ],
      "execution_count": 10,
      "outputs": [
        {
          "output_type": "stream",
          "name": "stdout",
          "text": [
            "InvoiceNo           0\n",
            "StockCode           0\n",
            "Description      1454\n",
            "Quantity            0\n",
            "InvoiceDate         0\n",
            "UnitPrice           0\n",
            "CustomerID     135080\n",
            "Country             0\n",
            "dtype: int64\n"
          ]
        }
      ]
    },
    {
      "cell_type": "markdown",
      "metadata": {
        "id": "b3Hr2LnRbbEx"
      },
      "source": [
        "C we separated customerID and Description to other objects then we used fillna() to replace all the missing values with the mean and mode using mean() and mode() for the numerial and categorical data"
      ]
    },
    {
      "cell_type": "code",
      "metadata": {
        "id": "AOJwLQV9TEoP"
      },
      "source": [
        "cus = retail_frame['CustomerID']\n",
        "cus.fillna(cus.mean(),inplace = True)\n",
        "desc = retail_frame['Description']\n",
        "desc.fillna(desc.mode(),inplace=True)\n",
        "retail_frame['CustomerID'] = cus\n",
        "retail_frame['Description'] = desc"
      ],
      "execution_count": null,
      "outputs": []
    },
    {
      "cell_type": "markdown",
      "metadata": {
        "id": "__6HGKL1bhAQ"
      },
      "source": [
        "D.we used describe() to view the statistical details of retail frame"
      ]
    },
    {
      "cell_type": "code",
      "metadata": {
        "colab": {
          "base_uri": "https://localhost:8080/"
        },
        "id": "5AUzPOq9WKdZ",
        "outputId": "34beb9f5-b19b-4cf4-ad09-2d169412b5e7"
      },
      "source": [
        "print(retail_frame.describe())"
      ],
      "execution_count": 14,
      "outputs": [
        {
          "output_type": "stream",
          "name": "stdout",
          "text": [
            "            Quantity      UnitPrice    CustomerID\n",
            "count  541909.000000  541909.000000  541909.00000\n",
            "mean        9.552250       4.611114   15287.69057\n",
            "std       218.081158      96.759853    1484.74601\n",
            "min    -80995.000000  -11062.060000   12346.00000\n",
            "25%         1.000000       1.250000   14367.00000\n",
            "50%         3.000000       2.080000   15287.69057\n",
            "75%        10.000000       4.130000   16255.00000\n",
            "max     80995.000000   38970.000000   18287.00000\n"
          ]
        }
      ]
    },
    {
      "cell_type": "markdown",
      "metadata": {
        "id": "mh1kFyY6bki0"
      },
      "source": [
        "E. we used head(20) to display the first  20 records in the dataset."
      ]
    },
    {
      "cell_type": "code",
      "metadata": {
        "colab": {
          "base_uri": "https://localhost:8080/"
        },
        "id": "fAyv2sjcWReZ",
        "outputId": "184cc60c-dc60-4afc-bb87-782dafecc44f"
      },
      "source": [
        "print(retail_frame.head(20))"
      ],
      "execution_count": 15,
      "outputs": [
        {
          "output_type": "stream",
          "name": "stdout",
          "text": [
            "   InvoiceNo StockCode  ... CustomerID         Country\n",
            "0     536365    85123A  ...    17850.0  United Kingdom\n",
            "1     536365     71053  ...    17850.0  United Kingdom\n",
            "2     536365    84406B  ...    17850.0  United Kingdom\n",
            "3     536365    84029G  ...    17850.0  United Kingdom\n",
            "4     536365    84029E  ...    17850.0  United Kingdom\n",
            "5     536365     22752  ...    17850.0  United Kingdom\n",
            "6     536365     21730  ...    17850.0  United Kingdom\n",
            "7     536366     22633  ...    17850.0  United Kingdom\n",
            "8     536366     22632  ...    17850.0  United Kingdom\n",
            "9     536367     84879  ...    13047.0  United Kingdom\n",
            "10    536367     22745  ...    13047.0  United Kingdom\n",
            "11    536367     22748  ...    13047.0  United Kingdom\n",
            "12    536367     22749  ...    13047.0  United Kingdom\n",
            "13    536367     22310  ...    13047.0  United Kingdom\n",
            "14    536367     84969  ...    13047.0  United Kingdom\n",
            "15    536367     22623  ...    13047.0  United Kingdom\n",
            "16    536367     22622  ...    13047.0  United Kingdom\n",
            "17    536367     21754  ...    13047.0  United Kingdom\n",
            "18    536367     21755  ...    13047.0  United Kingdom\n",
            "19    536367     21777  ...    13047.0  United Kingdom\n",
            "\n",
            "[20 rows x 8 columns]\n"
          ]
        }
      ]
    },
    {
      "cell_type": "markdown",
      "metadata": {
        "id": "40jZnci9brgQ"
      },
      "source": [
        "F. we  used sample to extract the random rows in the dataset then assigned .30 in the fraq to specify that we are only getting .30 or 30%"
      ]
    },
    {
      "cell_type": "code",
      "metadata": {
        "id": "tq4v6rN-WcgU"
      },
      "source": [
        " retail_sample_frame = retail_frame.sample(frac = .30)"
      ],
      "execution_count": 18,
      "outputs": []
    },
    {
      "cell_type": "markdown",
      "metadata": {
        "id": "2SHIFm1Bbx6-"
      },
      "source": [
        "G.we used .unique() to show only the unique values"
      ]
    },
    {
      "cell_type": "code",
      "metadata": {
        "colab": {
          "base_uri": "https://localhost:8080/"
        },
        "id": "AuBMe4xHXENq",
        "outputId": "9df2f5b3-614b-4ddc-8404-1661de54c4a6"
      },
      "source": [
        "print(retail_frame['Description'].unique())"
      ],
      "execution_count": 22,
      "outputs": [
        {
          "output_type": "stream",
          "name": "stdout",
          "text": [
            "['WHITE HANGING HEART T-LIGHT HOLDER' 'WHITE METAL LANTERN'\n",
            " 'CREAM CUPID HEARTS COAT HANGER' ... 'lost'\n",
            " 'CREAM HANGING HEART T-LIGHT HOLDER' 'PAPER CRAFT , LITTLE BIRDIE']\n"
          ]
        }
      ]
    },
    {
      "cell_type": "markdown",
      "metadata": {
        "id": "SEnJlU2Gb2e1"
      },
      "source": [
        "H. we used groupby to indicate that we are grouping the dataframe in to dates and customer id then inside the groupby we used grouper to indicate to sepecify what frequency of the date we want to show in this case we want to show the weeks. then we indicated that we are calculating the sum of the unit price per group"
      ]
    },
    {
      "cell_type": "code",
      "metadata": {
        "colab": {
          "base_uri": "https://localhost:8080/"
        },
        "id": "R0ueYUYub1ra",
        "outputId": "ed2a475c-a2be-4119-b2d4-5e23c61160fd"
      },
      "source": [
        "print(retail_frame.groupby([pd.Grouper(key='InvoiceDate',freq='W'),'CustomerID']).UnitPrice.sum().head(50))"
      ],
      "execution_count": 34,
      "outputs": [
        {
          "output_type": "stream",
          "name": "stdout",
          "text": [
            "InvoiceDate  CustomerID\n",
            "2010-12-05   12395.0        37.41\n",
            "             12427.0        49.25\n",
            "             12431.0        73.90\n",
            "             12433.0       102.67\n",
            "             12471.0         8.50\n",
            "             12472.0       217.46\n",
            "             12557.0         7.85\n",
            "             12567.0       287.19\n",
            "             12583.0        55.29\n",
            "             12600.0        19.95\n",
            "             12647.0       125.15\n",
            "             12662.0        44.37\n",
            "             12682.0        67.07\n",
            "             12686.0        22.81\n",
            "             12712.0        46.64\n",
            "             12720.0        80.42\n",
            "             12725.0        98.50\n",
            "             12738.0        43.45\n",
            "             12747.0        21.13\n",
            "             12748.0       452.04\n",
            "             12763.0        28.99\n",
            "             12779.0        18.99\n",
            "             12791.0        16.85\n",
            "             12793.0        38.40\n",
            "             12838.0       116.43\n",
            "             12841.0       129.29\n",
            "             12855.0         4.65\n",
            "             12868.0        38.05\n",
            "             12915.0       100.00\n",
            "             12921.0        37.25\n",
            "             12947.0        50.33\n",
            "             12967.0       108.05\n",
            "             12971.0         2.92\n",
            "             13011.0        12.65\n",
            "             13013.0       200.29\n",
            "             13034.0        18.51\n",
            "             13047.0        83.29\n",
            "             13065.0        73.11\n",
            "             13069.0        74.80\n",
            "             13081.0       154.56\n",
            "             13089.0        12.40\n",
            "             13090.0         7.60\n",
            "             13093.0        67.35\n",
            "             13108.0        17.52\n",
            "             13117.0        25.54\n",
            "             13138.0        38.72\n",
            "             13145.0       295.00\n",
            "             13174.0       519.75\n",
            "             13255.0        27.30\n",
            "             13269.0        40.57\n",
            "Name: UnitPrice, dtype: float64\n"
          ]
        }
      ]
    },
    {
      "cell_type": "markdown",
      "metadata": {
        "id": "D59b6dYTc1FV"
      },
      "source": [
        "I. we used groupby to indicate that we are grouping the dataframe in to dates and description then inside the groupby we used grouper to indicate to sepecify what frequency of the date we want to show in this case we want to show the weeks. then we indicated that we are calculating the sum of the unit price per group"
      ]
    },
    {
      "cell_type": "code",
      "metadata": {
        "colab": {
          "base_uri": "https://localhost:8080/"
        },
        "id": "rdr89wIkXhkz",
        "outputId": "ae34ee16-1f4f-439b-ec81-13315d878583"
      },
      "source": [
        "print(retail_frame.groupby([pd.Grouper(key='InvoiceDate',freq='W'),'Description']).UnitPrice.sum().head(50))"
      ],
      "execution_count": 33,
      "outputs": [
        {
          "output_type": "stream",
          "name": "stdout",
          "text": [
            "InvoiceDate  Description                        \n",
            "2010-12-05    4 PURPLE FLOCK DINNER CANDLES           5.10\n",
            "              OVAL WALL MIRROR DIAMANTE              20.38\n",
            "              SET 2 TEA TOWELS I LOVE LONDON         67.88\n",
            "             10 COLOUR SPACEBOY PEN                  14.33\n",
            "             12 COLOURED PARTY BALLOONS               1.95\n",
            "             12 DAISY PEGS IN WOOD BOX                8.25\n",
            "             12 IVORY ROSE PEG PLACE SETTINGS         6.26\n",
            "             12 MESSAGE CARDS WITH ENVELOPES         19.98\n",
            "             12 PENCIL SMALL TUBE WOODLAND            8.39\n",
            "             12 PENCILS SMALL TUBE RED RETROSPOT     12.92\n",
            "             12 PENCILS SMALL TUBE SKULL             11.01\n",
            "             12 PENCILS TALL TUBE POSY                1.70\n",
            "             12 PENCILS TALL TUBE RED RETROSPOT       5.10\n",
            "             12 PENCILS TALL TUBE SKULLS              5.95\n",
            "             12 PENCILS TALL TUBE WOODLAND            6.72\n",
            "             12 PINK ROSE PEG PLACE SETTINGS          1.25\n",
            "             12 RED ROSE PEG PLACE SETTINGS           6.26\n",
            "             15CM CHRISTMAS GLASS BALL 20 LIGHTS     65.76\n",
            "             20 DOLLY PEGS RETROSPOT                  6.26\n",
            "             200 BENDY SKULL STRAWS                   3.75\n",
            "             200 RED + WHITE BENDY STRAWS             3.75\n",
            "             3 GARDENIA MORRIS BOXED CANDLES          8.50\n",
            "             3 HEARTS HANGING DECORATION RUSTIC      35.40\n",
            "             3 HOOK HANGER MAGIC GARDEN              10.06\n",
            "             3 HOOK PHOTO SHELF ANTIQUE WHITE        59.48\n",
            "             3 PIECE SPACEBOY COOKIE CUTTER SET      29.41\n",
            "             3 ROSE MORRIS BOXED CANDLES              4.25\n",
            "             3 STRIPEY MICE FELTCRAFT                22.61\n",
            "             3 TIER CAKE TIN GREEN AND CREAM        164.23\n",
            "             3 TIER CAKE TIN RED AND CREAM           74.64\n",
            "             3 TRADITIONAL COOKIE CUTTERS  SET        4.20\n",
            "             3 TRADITIONAl BISCUIT CUTTERS  SET       6.30\n",
            "             3 WHITE CHOC MORRIS BOXED CANDLES        4.25\n",
            "             36 DOILIES DOLLY GIRL                    8.86\n",
            "             36 FOIL HEART CAKE CASES                25.21\n",
            "             36 FOIL STAR CAKE CASES                 14.70\n",
            "             36 PENCILS TUBE POSY                     1.25\n",
            "             36 PENCILS TUBE RED RETROSPOT            5.00\n",
            "             36 PENCILS TUBE SKULLS                   8.75\n",
            "             36 PENCILS TUBE WOODLAND                 6.25\n",
            "             3D CHRISTMAS STAMPS STICKERS            13.76\n",
            "             3D DOG PICTURE PLAYING CARDS            17.71\n",
            "             3D HEARTS  HONEYCOMB PAPER GARLAND       5.91\n",
            "             3D SHEET OF CAT STICKERS                 2.54\n",
            "             3D SHEET OF DOG STICKERS                 5.92\n",
            "             3D TRADITIONAL CHRISTMAS STICKERS       10.00\n",
            "             3D VINTAGE CHRISTMAS STICKERS            6.25\n",
            "             4 BLUE DINNER CANDLES SILVER FLOCK       2.55\n",
            "             4 IVORY DINNER CANDLES SILVER FLOCK      7.65\n",
            "             4 PEAR BOTANICAL DINNER CANDLES          3.75\n",
            "Name: UnitPrice, dtype: float64\n"
          ]
        }
      ]
    },
    {
      "cell_type": "markdown",
      "metadata": {
        "id": "n987LpF0c2hH"
      },
      "source": [
        "J. we used group by and specified that we are adding the unitprice per group then we stored it to the new object called group_by_country"
      ]
    },
    {
      "cell_type": "code",
      "metadata": {
        "colab": {
          "base_uri": "https://localhost:8080/"
        },
        "id": "kruBgqEhYYQ3",
        "outputId": "3bd0b35a-2a35-4070-c11e-71f2d5e0d3c7"
      },
      "source": [
        "group_by_country = retail_frame.groupby('Country').UnitPrice.sum()\n",
        "print(group_by_country)"
      ],
      "execution_count": 32,
      "outputs": [
        {
          "output_type": "stream",
          "name": "stdout",
          "text": [
            "Country\n",
            "Australia               4.054750e+03\n",
            "Austria                 1.701520e+03\n",
            "Bahrain                 8.657000e+01\n",
            "Belgium                 7.540130e+03\n",
            "Brazil                  1.426000e+02\n",
            "Canada                  9.105800e+02\n",
            "Channel Islands         3.738550e+03\n",
            "Cyprus                  3.920070e+03\n",
            "Czech Republic          8.815000e+01\n",
            "Denmark                 1.266950e+03\n",
            "EIRE                    4.844719e+04\n",
            "European Community      2.940500e+02\n",
            "Finland                 3.786850e+03\n",
            "France                  4.303199e+04\n",
            "Germany                 3.766600e+04\n",
            "Greece                  7.132900e+02\n",
            "Hong Kong               1.224150e+04\n",
            "Iceland                 4.812100e+02\n",
            "Israel                  1.079040e+03\n",
            "Italy                   3.879390e+03\n",
            "Japan                   8.148600e+02\n",
            "Lebanon                 2.424400e+02\n",
            "Lithuania               9.944000e+01\n",
            "Malta                   6.660100e+02\n",
            "Netherlands             6.492550e+03\n",
            "Norway                  6.529060e+03\n",
            "Poland                  1.422270e+03\n",
            "Portugal                1.303754e+04\n",
            "RSA                     2.481000e+02\n",
            "Saudi Arabia            2.411000e+01\n",
            "Singapore               2.510889e+04\n",
            "Spain                   1.263345e+04\n",
            "Sweden                  1.806830e+03\n",
            "Switzerland             6.813690e+03\n",
            "UK                      1.974400e+02\n",
            "USA                     6.449800e+02\n",
            "Uk                      1.950000e+00\n",
            "United Arab Emirates    2.298900e+02\n",
            "United Kingdom          2.245516e+06\n",
            "Unspecified             1.204010e+03\n",
            "Name: UnitPrice, dtype: float64\n"
          ]
        }
      ]
    },
    {
      "cell_type": "markdown",
      "metadata": {
        "id": "oJGV2MJDc34f"
      },
      "source": [
        "K.we used group by and specified that we are adding the unitprice per group then we stored it to the new object called group_by_description"
      ]
    },
    {
      "cell_type": "code",
      "metadata": {
        "colab": {
          "base_uri": "https://localhost:8080/"
        },
        "id": "uO2QgfDVatQh",
        "outputId": "45a5a3e9-960f-43a2-dbc9-eed6e3a63916"
      },
      "source": [
        "group_by_description = retail_frame.groupby('Description').UnitPrice.sum()\n",
        "print(group_by_description)"
      ],
      "execution_count": 27,
      "outputs": [
        {
          "output_type": "stream",
          "name": "stdout",
          "text": [
            "Description\n",
            "20713                             -400\n",
            " 4 PURPLE FLOCK DINNER CANDLES     144\n",
            " 50'S CHRISTMAS GIFT BAG LARGE    1913\n",
            " DOLLY GIRL BEAKER                2448\n",
            " I LOVE LONDON MINI BACKPACK       389\n",
            "                                  ... \n",
            "wrongly marked carton 22804       -256\n",
            "wrongly marked. 23343 in box     -3100\n",
            "wrongly sold (22719) barcode       170\n",
            "wrongly sold as sets              -600\n",
            "wrongly sold sets                 -975\n",
            "Name: Quantity, Length: 4223, dtype: int64\n"
          ]
        }
      ]
    },
    {
      "cell_type": "markdown",
      "metadata": {
        "id": "XgZOppGrG1yx"
      },
      "source": [
        "**Part 1 Summary**\n",
        "\n",
        "in the part1, we preprocessed the excel file called, Online Retail.xlsx.\n",
        "in the preprocessing we cleaned the excel file by finding all the missing values then replaced it with its median and mode, we also viewd its statistical details and selected 30 percent of its row size as samples. we also identified all of the unique description feature and grouped them to view the ammount added pero week then we created objects that contains all the columns together with its total unit price.\n"
      ]
    },
    {
      "cell_type": "markdown",
      "metadata": {
        "id": "n5ZkGmRQc6gG"
      },
      "source": [
        "# Part 2"
      ]
    },
    {
      "cell_type": "markdown",
      "metadata": {
        "id": "EqfLMsEIdXyP"
      },
      "source": [
        "A.using panda's read_excel we imported Family Income and Expenditure.xlsx"
      ]
    },
    {
      "cell_type": "code",
      "metadata": {
        "id": "b4W1jLaYc-5h"
      },
      "source": [
        "family_frame = pd.read_excel('Family Income and Expenditure.xlsx')"
      ],
      "execution_count": 36,
      "outputs": []
    },
    {
      "cell_type": "markdown",
      "metadata": {
        "id": "mev-NCkddtNg"
      },
      "source": [
        "B.using isnull() we identify the missing values and we used sum to get the total missing values"
      ]
    },
    {
      "cell_type": "code",
      "metadata": {
        "colab": {
          "base_uri": "https://localhost:8080/"
        },
        "id": "1OP1DOv1dz3s",
        "outputId": "23518f4e-b743-46c2-a8fe-1901fe1ae1af"
      },
      "source": [
        "print(family_frame.isnull().sum())"
      ],
      "execution_count": 43,
      "outputs": [
        {
          "output_type": "stream",
          "name": "stdout",
          "text": [
            "Total Household Income                              0\n",
            "Region                                              0\n",
            "Total Food Expenditure                              0\n",
            "Main Source of Income                               0\n",
            "Agricultural Household indicator                    0\n",
            "Bread and Cereals Expenditure                      15\n",
            "Total Rice Expenditure                              0\n",
            "Meat Expenditure                                    0\n",
            "Total Fish and  marine products Expenditure         0\n",
            "Fruit Expenditure                                   0\n",
            "Vegetables Expenditure                              0\n",
            "Restaurant and hotels Expenditure                  19\n",
            "Alcoholic Beverages Expenditure                     0\n",
            "Tobacco Expenditure                                 0\n",
            "Clothing, Footwear and Other Wear Expenditure       0\n",
            "Housing and water Expenditure                       0\n",
            "Imputed House Rental Value                          0\n",
            "Medical Care Expenditure                            0\n",
            "Transportation Expenditure                          0\n",
            "Communication Expenditure                           0\n",
            "Education Expenditure                               0\n",
            "Miscellaneous Goods and Services Expenditure        0\n",
            "Special Occasions Expenditure                       0\n",
            "Crop Farming and Gardening expenses                 0\n",
            "Total Income from Entrepreneurial Acitivites        0\n",
            "Household Head Sex                                  0\n",
            "Household Head Age                                 67\n",
            "Household Head Marital Status                       0\n",
            "Household Head Highest Grade Completed              0\n",
            "Household Head Job or Business Indicator            0\n",
            "Household Head Occupation                        7536\n",
            "Household Head Class of Worker                   7536\n",
            "Type of Household                                   0\n",
            "Total Number of Family members                      0\n",
            "Members with age less than 5 year old               0\n",
            "Members with age 5 - 17 years old                   0\n",
            "Total number of family members employed             0\n",
            "Type of Building/House                              0\n",
            "Type of Roof                                        0\n",
            "Type of Walls                                       0\n",
            "House Floor Area                                    0\n",
            "House Age                                           0\n",
            "Number of bedrooms                                  0\n",
            "Tenure Status                                       0\n",
            "Toilet Facilities                                   0\n",
            "Electricity                                         0\n",
            "Main Source of Water Supply                         0\n",
            "Number of Television                                0\n",
            "Number of CD/VCD/DVD                                0\n",
            "Number of Component/Stereo set                      0\n",
            "Number of Refrigerator/Freezer                      0\n",
            "Number of Washing Machine                           0\n",
            "Number of Airconditioner                            0\n",
            "Number of Car, Jeep, Van                            0\n",
            "Number of Landline/wireless telephones              0\n",
            "Number of Cellular phone                            0\n",
            "Number of Personal Computer                         0\n",
            "Number of Stove with Oven/Gas Range                 0\n",
            "Number of Motorized Banca                           0\n",
            "Number of Motorcycle/Tricycle                       0\n",
            "dtype: int64\n"
          ]
        }
      ]
    },
    {
      "cell_type": "markdown",
      "metadata": {
        "id": "C4L12fzreOwJ"
      },
      "source": [
        "C.we segregated the 3 numerical and 2 categorical features then replaced the missing values using fillna() then indicated that we are replacing it with the mean and the mode of each features."
      ]
    },
    {
      "cell_type": "code",
      "metadata": {
        "id": "BgMVTE_AePsl"
      },
      "source": [
        "num1 = family_frame['Bread and Cereals Expenditure']\n",
        "num2 = family_frame['Restaurant and hotels Expenditure']\n",
        "num3 = family_frame['Household Head Age']\n",
        "obj1 = family_frame['Household Head Occupation']\n",
        "obj2 = family_frame['Household Head Class of Worker']\n",
        "\n",
        "num1.fillna(num1.mean(),inplace=True)\n",
        "num2.fillna(num2.mean(),inplace=True)\n",
        "num3.fillna(num3.mean(),inplace=True)\n",
        "obj1.fillna(obj1.mode(),inplace=True)\n",
        "obj2.fillna(obj2.mode(),inplace=True)\n",
        "\n",
        "\n",
        "family_frame['Bread and Cereals Expenditure'] = num1\n",
        "family_frame['Restaurant and hotels Expenditure'] = num2 \n",
        "family_frame['Household Head Age'] = num3\n",
        "family_frame['Household Head Occupation'] = obj1  \n",
        "family_frame['Household Head Class of Worker'] = obj2"
      ],
      "execution_count": 44,
      "outputs": []
    },
    {
      "cell_type": "markdown",
      "metadata": {
        "id": "a2dg-5zWgrqd"
      },
      "source": [
        "D.we printed the firs 20 values of the frame using head()"
      ]
    },
    {
      "cell_type": "code",
      "metadata": {
        "colab": {
          "base_uri": "https://localhost:8080/"
        },
        "id": "2ONdNhoTgv4T",
        "outputId": "a010ebf6-d457-4d7d-d5f8-e44164c41a93"
      },
      "source": [
        "print(family_frame.head(20))"
      ],
      "execution_count": 47,
      "outputs": [
        {
          "output_type": "stream",
          "name": "stdout",
          "text": [
            "    Total Household Income  ... Number of Motorcycle/Tricycle\n",
            "0                   480332  ...                             1\n",
            "1                   198235  ...                             2\n",
            "2                    82785  ...                             0\n",
            "3                   107589  ...                             0\n",
            "4                   189322  ...                             1\n",
            "5                   152883  ...                             1\n",
            "6                   198621  ...                             1\n",
            "7                   134961  ...                             1\n",
            "8                   171152  ...                             0\n",
            "9                   625753  ...                             0\n",
            "10                  147005  ...                             1\n",
            "11                  253130  ...                             0\n",
            "12                  101111  ...                             0\n",
            "13                  128214  ...                             1\n",
            "14                   91525  ...                             0\n",
            "15                  171742  ...                             0\n",
            "16                   95385  ...                             0\n",
            "17                  142843  ...                             0\n",
            "18                   88170  ...                             0\n",
            "19                   97018  ...                             0\n",
            "\n",
            "[20 rows x 60 columns]\n"
          ]
        }
      ]
    },
    {
      "cell_type": "markdown",
      "metadata": {
        "id": "mN9abkzKg0xR"
      },
      "source": [
        "E. we  used sample to extract the random rows in the dataset then assigned .30 in the fraq to specify that we are only getting .20 or 20%"
      ]
    },
    {
      "cell_type": "code",
      "metadata": {
        "id": "JJ31e_rdg2uq"
      },
      "source": [
        " family_sample_frame = family_frame.sample(frac = .20)"
      ],
      "execution_count": 48,
      "outputs": []
    },
    {
      "cell_type": "markdown",
      "metadata": {
        "id": "G2lYaXCbhU1Z"
      },
      "source": [
        "F. we created bins to specify the intervals to be used, then used pd,cut to segregate the data into their respective bins"
      ]
    },
    {
      "cell_type": "code",
      "metadata": {
        "id": "77KqA5Y6hXG6"
      },
      "source": [
        "bins = [0,25,50,75,100]\n",
        "\n",
        "data = family_frame['Household Head Age']\n",
        "\n",
        "cat = pd.cut(data,bins)\n",
        "\n",
        "\n"
      ],
      "execution_count": 51,
      "outputs": []
    },
    {
      "cell_type": "markdown",
      "metadata": {
        "id": "3lHMx8BUiXLX"
      },
      "source": [
        "G.we used pd.value_counts to print the occurence per bin"
      ]
    },
    {
      "cell_type": "code",
      "metadata": {
        "colab": {
          "base_uri": "https://localhost:8080/"
        },
        "id": "1sG7w8_riPjX",
        "outputId": "6a598502-8411-450b-94aa-22882ffecedb"
      },
      "source": [
        "print(pd.value_counts(cat), '\\n')"
      ],
      "execution_count": 53,
      "outputs": [
        {
          "output_type": "stream",
          "name": "stdout",
          "text": [
            "(25, 50]     19798\n",
            "(50, 75]     18635\n",
            "(75, 100]     2274\n",
            "(0, 25]        837\n",
            "Name: Household Head Age, dtype: int64 \n",
            "\n"
          ]
        }
      ]
    },
    {
      "cell_type": "markdown",
      "metadata": {
        "id": "8HYpOCV7iZcP"
      },
      "source": [
        "H. we used q cut to automatcally set the bin intervals and balance out the number of occurance and specified the quantile to 5 so that we can have only 5 bins"
      ]
    },
    {
      "cell_type": "code",
      "metadata": {
        "id": "ut9YphRxialU"
      },
      "source": [
        "qcat = pd.qcut(data,q=5)\n"
      ],
      "execution_count": 55,
      "outputs": []
    },
    {
      "cell_type": "markdown",
      "metadata": {
        "id": "cuObrIYBivbG"
      },
      "source": [
        "I. we used pd.value_counts to print the occurence per bin"
      ]
    },
    {
      "cell_type": "code",
      "metadata": {
        "colab": {
          "base_uri": "https://localhost:8080/"
        },
        "id": "6UMCRXraivF0",
        "outputId": "833f7f15-9f2f-4e03-aea2-74101ef42409"
      },
      "source": [
        "print(pd.value_counts(qcat), '\\n')"
      ],
      "execution_count": 56,
      "outputs": [
        {
          "output_type": "stream",
          "name": "stdout",
          "text": [
            "(8.999, 39.0]    8997\n",
            "(47.0, 55.0]     8682\n",
            "(39.0, 47.0]     8295\n",
            "(55.0, 64.0]     7819\n",
            "(64.0, 99.0]     7751\n",
            "Name: Household Head Age, dtype: int64 \n",
            "\n"
          ]
        }
      ]
    },
    {
      "cell_type": "markdown",
      "metadata": {
        "id": "iaLEG96_i7kI"
      },
      "source": [
        "J. we used copy() to copy the dataframe in to the assigned new object"
      ]
    },
    {
      "cell_type": "code",
      "metadata": {
        "id": "LSiYsAs4i8iw"
      },
      "source": [
        "family_sample_frame_copy = family_sample_frame.copy()"
      ],
      "execution_count": 57,
      "outputs": []
    },
    {
      "cell_type": "markdown",
      "metadata": {
        "id": "Yp_de-06jpCx"
      },
      "source": [
        "K. we used select dtypes to specify that we are only needing the columns that has  int64 and fload 64."
      ]
    },
    {
      "cell_type": "code",
      "metadata": {
        "colab": {
          "base_uri": "https://localhost:8080/"
        },
        "id": "vRTCYjdpkYjH",
        "outputId": "1fa58b09-114a-4fb4-f89d-b6b8b8675b62"
      },
      "source": [
        "dt = family_sample_frame_copy.select_dtypes(include=['int64'])\n",
        "dt2 = family_sample_frame_copy.select_dtypes(include=['float64'])\n",
        "\n",
        "types = dt + dt2\n",
        "print(types.columns.values)\n"
      ],
      "execution_count": 68,
      "outputs": [
        {
          "output_type": "stream",
          "name": "stdout",
          "text": [
            "['Agricultural Household indicator' 'Alcoholic Beverages Expenditure'\n",
            " 'Bread and Cereals Expenditure'\n",
            " 'Clothing, Footwear and Other Wear Expenditure'\n",
            " 'Communication Expenditure' 'Crop Farming and Gardening expenses'\n",
            " 'Education Expenditure' 'Electricity' 'Fruit Expenditure' 'House Age'\n",
            " 'House Floor Area' 'Household Head Age' 'Housing and water Expenditure'\n",
            " 'Imputed House Rental Value' 'Meat Expenditure'\n",
            " 'Medical Care Expenditure' 'Members with age 5 - 17 years old'\n",
            " 'Members with age less than 5 year old'\n",
            " 'Miscellaneous Goods and Services Expenditure' 'Number of Airconditioner'\n",
            " 'Number of CD/VCD/DVD' 'Number of Car, Jeep, Van'\n",
            " 'Number of Cellular phone' 'Number of Component/Stereo set'\n",
            " 'Number of Landline/wireless telephones' 'Number of Motorcycle/Tricycle'\n",
            " 'Number of Motorized Banca' 'Number of Personal Computer'\n",
            " 'Number of Refrigerator/Freezer' 'Number of Stove with Oven/Gas Range'\n",
            " 'Number of Television' 'Number of Washing Machine' 'Number of bedrooms'\n",
            " 'Restaurant and hotels Expenditure' 'Special Occasions Expenditure'\n",
            " 'Tobacco Expenditure' 'Total Fish and  marine products Expenditure'\n",
            " 'Total Food Expenditure' 'Total Household Income'\n",
            " 'Total Income from Entrepreneurial Acitivites'\n",
            " 'Total Number of Family members' 'Total Rice Expenditure'\n",
            " 'Total number of family members employed' 'Transportation Expenditure'\n",
            " 'Vegetables Expenditure']\n"
          ]
        }
      ]
    },
    {
      "cell_type": "markdown",
      "metadata": {
        "id": "aG9loeiq9Wve"
      },
      "source": [
        "after getting the names of the columns that has float and int we used loc to locate then and to get their values"
      ]
    },
    {
      "cell_type": "code",
      "metadata": {
        "id": "gSbFAzF0juIQ"
      },
      "source": [
        "x = family_sample_frame_copy.loc[:,types.columns].values\n",
        "\n"
      ],
      "execution_count": 70,
      "outputs": []
    },
    {
      "cell_type": "markdown",
      "metadata": {
        "id": "aig97PvTl5wV"
      },
      "source": [
        "L Standardize,  We imported StandardScaler from sklearn to use the StandardScaler function to standardize our data , to do this we assigned scaler as the standarscaler() then used it to call fit_transform and feed the data which is x to get all the standardized value, after that we generate feature names from 0 to n then we combined it all to form a datafame"
      ]
    },
    {
      "cell_type": "code",
      "metadata": {
        "colab": {
          "base_uri": "https://localhost:8080/"
        },
        "id": "ZCjw4BVjlzHD",
        "outputId": "e5fbcf1d-fa53-46ad-b6d7-11e6511b76a2"
      },
      "source": [
        "from sklearn.preprocessing import StandardScaler\n",
        "scaler = StandardScaler()\n",
        "\n",
        "x = scaler.fit_transform(x) \n",
        "\n",
        "x_features = ['feature'+str(i) for i in range(x.shape[1])]\n",
        "\n",
        "normalized_df = pd.DataFrame(x,columns=x_features)\n",
        "print(normalized_df)"
      ],
      "execution_count": 73,
      "outputs": [
        {
          "output_type": "stream",
          "name": "stdout",
          "text": [
            "      feature0  feature1   feature2  ...  feature42  feature43  feature44\n",
            "0     0.830116  1.536673  -0.219781  ...  -0.229003   0.066989   0.248761\n",
            "1    -0.639299 -0.498034  -0.592754  ...  -1.086888  -0.281829  -1.042784\n",
            "2    -0.639299 -0.283384  -0.743997  ...   1.486766   0.072781   0.116730\n",
            "3    -0.639299  0.843531   2.340850  ...   4.060419   1.436196   1.579370\n",
            "4     0.830116 -0.498034  -0.141401  ...  -1.086888  -0.578518  -0.780841\n",
            "...        ...       ...        ...  ...        ...        ...        ...\n",
            "8304 -0.639299 -0.225249  -0.726222  ...  -1.086888  -0.490348  -0.416846\n",
            "8305 -0.639299  2.739609   1.190823  ...   2.344650  -0.131876  -1.027642\n",
            "8306  2.299531  0.548387  -0.384278  ...  -0.229003  -0.233561  -0.101909\n",
            "8307 -0.639299 -0.377293  17.489032  ...   0.628881   0.091445  -0.487101\n",
            "8308 -0.639299  0.615465   0.324280  ...  -0.229003  -0.135416   0.690884\n",
            "\n",
            "[8309 rows x 45 columns]\n"
          ]
        }
      ]
    },
    {
      "cell_type": "markdown",
      "metadata": {
        "id": "G_-R6iaNnPX8"
      },
      "source": [
        "M. PCA, we imported PCA from sklearn then created pca_data to call the pca function that indicates we only need 2 components then we stored the pca result to pca_res1 then created the dataframe using pca_res2"
      ]
    },
    {
      "cell_type": "code",
      "metadata": {
        "colab": {
          "base_uri": "https://localhost:8080/"
        },
        "id": "nPWCYaE7nOzX",
        "outputId": "a6ddcfb9-2375-4e31-9407-327b59ae4c35"
      },
      "source": [
        "from sklearn.decomposition import PCA\n",
        "pca_data = PCA(n_components=2)\n",
        "pca_res1 = pca_data.fit_transform(x)\n",
        "pca_res2 = pd.DataFrame(data = pca_res1, columns=['PC1','PC2'])\n",
        "print(pca_res2)"
      ],
      "execution_count": 75,
      "outputs": [
        {
          "output_type": "stream",
          "name": "stdout",
          "text": [
            "            PC1       PC2\n",
            "0      1.088612 -0.130079\n",
            "1      3.469055 -3.722648\n",
            "2      4.392958  0.305440\n",
            "3      3.587831  4.660023\n",
            "4     -2.187468 -0.331557\n",
            "...         ...       ...\n",
            "8304  -1.109266 -2.172807\n",
            "8305  -0.625801  3.779036\n",
            "8306  -0.236532 -0.558353\n",
            "8307  10.331835  4.328220\n",
            "8308   1.153895  0.399577\n",
            "\n",
            "[8309 rows x 2 columns]\n"
          ]
        }
      ]
    },
    {
      "cell_type": "markdown",
      "metadata": {
        "id": "mvyPzySEn3Mu"
      },
      "source": [
        "N. using explain_variance_ratio_ to our pca_data, we can see the explaied variance ratio for each component"
      ]
    },
    {
      "cell_type": "code",
      "metadata": {
        "colab": {
          "base_uri": "https://localhost:8080/"
        },
        "id": "I8kFdye3n4Gr",
        "outputId": "ddc1766b-939b-4d81-ecde-ad319979abe8"
      },
      "source": [
        "print('Explained variation per principal component: {}'.format(pca_data.explained_variance_ratio_))"
      ],
      "execution_count": 76,
      "outputs": [
        {
          "output_type": "stream",
          "name": "stdout",
          "text": [
            "Explained variation per principal component: [0.26051009 0.08108816]\n"
          ]
        }
      ]
    },
    {
      "cell_type": "markdown",
      "metadata": {
        "id": "BPda0l_ooPX8"
      },
      "source": [
        "O. we copied the columns A, B, C, D, Y, Z, AA, and AB by using iloc[] to specify the number of index of the column then stored it in a copy object"
      ]
    },
    {
      "cell_type": "code",
      "metadata": {
        "colab": {
          "base_uri": "https://localhost:8080/"
        },
        "id": "T9Gy8scFoQ1Z",
        "outputId": "6b67f610-24de-4e92-997c-d6689b292b35"
      },
      "source": [
        "family_sample_frame_copy2 = family_sample_frame.iloc[:,[0,1,2,3,24,26,27]]\n",
        "\n",
        "\n",
        "print(family_sample_frame_copy2)\n",
        "\n"
      ],
      "execution_count": 118,
      "outputs": [
        {
          "output_type": "stream",
          "name": "stdout",
          "text": [
            "       Total Household Income  ... Household Head Marital Status\n",
            "29842                  204078  ...                       Married\n",
            "16752                  510235  ...            Divorced/Separated\n",
            "36403                  482727  ...                       Married\n",
            "35004                  346033  ...                       Married\n",
            "19914                   88005  ...                       Widowed\n",
            "...                       ...  ...                           ...\n",
            "4799                   166529  ...                       Married\n",
            "9285                   260715  ...                       Married\n",
            "37526                  157616  ...                       Married\n",
            "10363                  727146  ...                       Widowed\n",
            "13223                  163266  ...                       Married\n",
            "\n",
            "[8309 rows x 7 columns]\n"
          ]
        }
      ]
    },
    {
      "cell_type": "markdown",
      "metadata": {
        "id": "bmwG1AZOrKAW"
      },
      "source": [
        "P. we imported LabelEncoder from sk learn to feature encode the region column then stored it in the new column called B"
      ]
    },
    {
      "cell_type": "code",
      "metadata": {
        "colab": {
          "base_uri": "https://localhost:8080/"
        },
        "id": "pAQMFc6frYpK",
        "outputId": "ed5f4fee-8613-4a40-d704-d679eb6458a6"
      },
      "source": [
        "from sklearn.preprocessing import LabelEncoder\n",
        "\n",
        "encoder = LabelEncoder()\n",
        "\n",
        "family_sample_frame_copy2['B'] = encoder.fit_transform(family_sample_frame['Region'])\n"
      ],
      "execution_count": 119,
      "outputs": [
        {
          "output_type": "stream",
          "name": "stderr",
          "text": [
            "/usr/local/lib/python3.7/dist-packages/ipykernel_launcher.py:5: SettingWithCopyWarning: \n",
            "A value is trying to be set on a copy of a slice from a DataFrame.\n",
            "Try using .loc[row_indexer,col_indexer] = value instead\n",
            "\n",
            "See the caveats in the documentation: https://pandas.pydata.org/pandas-docs/stable/user_guide/indexing.html#returning-a-view-versus-a-copy\n",
            "  \"\"\"\n"
          ]
        }
      ]
    },
    {
      "cell_type": "markdown",
      "metadata": {
        "id": "XLe9FuyHsYAc"
      },
      "source": [
        "Q. We imported LabelBinarizer from sklearn then stored it in the binarizer \n",
        "\n",
        "we assigned x3 to store our  selected columns and its values using iloc then we sepecified the index of the columns. we then reshaped the x3 to a 1D array then using binarizer.fit_transform we feature encode the columns specifed then the result of it is stored in the binarizer_res"
      ]
    },
    {
      "cell_type": "code",
      "metadata": {
        "colab": {
          "base_uri": "https://localhost:8080/"
        },
        "id": "RS99svOvr6bC",
        "outputId": "2a59481f-f368-465d-cce7-29b87430db19"
      },
      "source": [
        "from sklearn.preprocessing import LabelBinarizer\n",
        "\n",
        "binarizer = LabelBinarizer()\n",
        "\n",
        "x3 = family_sample_frame.iloc[:,[3,25,27]].values\n",
        "\n",
        "\n",
        "\n",
        "x3 = x3.reshape(-1,1)\n",
        "\n",
        "print(x3)\n",
        "binarizer_res = binarizer.fit_transform(x3)\n",
        "\n",
        "print(binarizer_res)\n",
        "\n"
      ],
      "execution_count": 200,
      "outputs": [
        {
          "output_type": "stream",
          "name": "stdout",
          "text": [
            "[['Enterpreneurial Activities']\n",
            " ['Male']\n",
            " ['Married']\n",
            " ...\n",
            " ['Enterpreneurial Activities']\n",
            " ['Male']\n",
            " ['Married']]\n",
            "[[0 0 1 ... 0 0 0]\n",
            " [0 0 0 ... 0 0 0]\n",
            " [0 0 0 ... 0 0 0]\n",
            " ...\n",
            " [0 0 1 ... 0 0 0]\n",
            " [0 0 0 ... 0 0 0]\n",
            " [0 0 0 ... 0 0 0]]\n"
          ]
        }
      ]
    },
    {
      "cell_type": "markdown",
      "metadata": {
        "id": "2l5_114AolTy"
      },
      "source": [
        "R. to concatinate all the data we first reshaped the binarizer_res to its original shape which has 3 columns and 83090 rows, then we created a dataframe for the binarizer_res that has 3 column headers b1 to b3, then we combined the family_sample_frame_copy2 with the new frame newd in an object, then using final we concatinate the 2 dataframes and specified the axis to prevent the added frame values to be none and we joined it using innerjoin"
      ]
    },
    {
      "cell_type": "code",
      "metadata": {
        "colab": {
          "base_uri": "https://localhost:8080/"
        },
        "id": "YEFN-qMr23Kr",
        "outputId": "7b5d498b-45a1-4341-8ab1-c4d86c135b88"
      },
      "source": [
        "binarizer_res = binarizer_res.reshape(83090,3)\n",
        "\n",
        "print(binarizer_res)\n",
        "\n",
        "newd= pd.DataFrame(data=binarizer_res, columns= ['b1','b2','b3'])\n",
        "\n",
        "\n",
        "combine = [family_sample_frame_copy2,newd]\n",
        "final = pd.concat(combine,axis=1,join='inner')\n",
        "print(final.head(50))"
      ],
      "execution_count": 199,
      "outputs": [
        {
          "output_type": "stream",
          "name": "stdout",
          "text": [
            "[[0 0 1]\n",
            " [0 0 0]\n",
            " [0 0 0]\n",
            " ...\n",
            " [0 0 0]\n",
            " [0 1 0]\n",
            " [0 0 0]]\n",
            "       Total Household Income                     Region  ...  b2 b3\n",
            "29842                  204078        II - Cagayan Valley  ...   0  0\n",
            "16752                  510235           IVA - CALABARZON  ...   0  0\n",
            "36403                  482727  IX - Zasmboanga Peninsula  ...   0  0\n",
            "35004                  346033        III - Central Luzon  ...   0  1\n",
            "19914                   88005                       ARMM  ...   1  0\n",
            "29466                  129845           IVA - CALABARZON  ...   0  0\n",
            "28775                  209413          I - Ilocos Region  ...   0  0\n",
            "18371                  109078                       ARMM  ...   0  0\n",
            "10597                   23151      VII - Central Visayas  ...   0  0\n",
            "339                    201271                     Caraga  ...   0  1\n",
            "35652                   94613  IX - Zasmboanga Peninsula  ...   0  0\n",
            "14595                  174520       VI - Western Visayas  ...   0  0\n",
            "8428                   316594           IVA - CALABARZON  ...   1  0\n",
            "32063                  145138         XII - SOCCSKSARGEN  ...   0  0\n",
            "41179                  202370  IX - Zasmboanga Peninsula  ...   0  0\n",
            "20319                   40438                       ARMM  ...   0  0\n",
            "5926                   115805        III - Central Luzon  ...   0  0\n",
            "7286                   313480           V - Bicol Region  ...   0  0\n",
            "38560                  710835                        NCR  ...   0  0\n",
            "23223                   79568       VI - Western Visayas  ...   0  0\n",
            "9612                   121733      VII - Central Visayas  ...   0  0\n",
            "10747                   88485      VII - Central Visayas  ...   0  0\n",
            "15483                  115310        II - Cagayan Valley  ...   0  0\n",
            "34360                   57779                     Caraga  ...   0  0\n",
            "8766                   128680           IVA - CALABARZON  ...   0  0\n",
            "11498                  163702          XI - Davao Region  ...   0  0\n",
            "15793                  122815        II - Cagayan Valley  ...   0  0\n",
            "6257                   197847        II - Cagayan Valley  ...   0  0\n",
            "31447                  104319           V - Bicol Region  ...   0  0\n",
            "7984                   232600       VI - Western Visayas  ...   0  1\n",
            "29505                   79770           IVA - CALABARZON  ...   0  0\n",
            "2147                    64030       VI - Western Visayas  ...   0  0\n",
            "21143                  370195             IVB - MIMAROPA  ...   0  0\n",
            "6551                   209275        II - Cagayan Valley  ...   0  0\n",
            "6423                   505935        II - Cagayan Valley  ...   0  0\n",
            "41494                   67966         XII - SOCCSKSARGEN  ...   0  1\n",
            "26305                   66496             IVB - MIMAROPA  ...   0  0\n",
            "4890                   118921      X - Northern Mindanao  ...   0  0\n",
            "36771                  190240                        NCR  ...   0  0\n",
            "18423                   81290                       ARMM  ...   0  0\n",
            "25619                   97870        III - Central Luzon  ...   0  0\n",
            "24764                   63380         XII - SOCCSKSARGEN  ...   1  0\n",
            "39040                  253550                        NCR  ...   0  0\n",
            "6570                   149530        II - Cagayan Valley  ...   0  1\n",
            "7436                   560556           V - Bicol Region  ...   0  0\n",
            "6545                   402624        II - Cagayan Valley  ...   0  0\n",
            "9910                   265600      VII - Central Visayas  ...   0  1\n",
            "18298                   96172                       ARMM  ...   1  0\n",
            "34230                  174720                     Caraga  ...   0  0\n",
            "29106                  316090           IVA - CALABARZON  ...   0  0\n",
            "\n",
            "[50 rows x 11 columns]\n"
          ]
        }
      ]
    },
    {
      "cell_type": "markdown",
      "metadata": {
        "id": "3f76G7dMIbDx"
      },
      "source": [
        "**Part2**\n",
        "\n",
        "In the part2 we preprocessed Family Income and Expenditure.xlsx. We filled the missing values with the mean and mode of their respective columns and we get random samples from the 20% of the population. We also segregated the household head age and created 4 bins with the range of 0,25,50,75,100 then assigned them to their respective bins and using q cut we automatically generated the intervals and balanced the number of occurances. in this part we replicated our dataframe in preperation for the principal component analysis or pca and extracted only 2 principal components as a result our Explained variation per principal component are [0.26051009 0.08108816]. we again prepared that data by copying it in preperation for feature encoding using labelencoder and labelbinarier from sklearn libraries, in the process we feature encoded the regions column then we used labelbinarizer to featrure encode the columns, Main Source of Income, Household Head Sex and Household Head Marital Status and finally concatinated their results and displayed only 50 of records.\n"
      ]
    }
  ]
}