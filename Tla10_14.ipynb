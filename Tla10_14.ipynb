{
  "nbformat": 4,
  "nbformat_minor": 0,
  "metadata": {
    "colab": {
      "name": "Tla10-14.ipynb",
      "provenance": [],
      "collapsed_sections": [],
      "authorship_tag": "ABX9TyMfojtdqKDq2kn0LyIohGRj",
      "include_colab_link": true
    },
    "kernelspec": {
      "name": "python3",
      "display_name": "Python 3"
    },
    "language_info": {
      "name": "python"
    }
  },
  "cells": [
    {
      "cell_type": "markdown",
      "metadata": {
        "id": "view-in-github",
        "colab_type": "text"
      },
      "source": [
        "<a href=\"https://colab.research.google.com/github/garcia-christian/DataAna_Activities/blob/main/Tla10_14.ipynb\" target=\"_parent\"><img src=\"https://colab.research.google.com/assets/colab-badge.svg\" alt=\"Open In Colab\"/></a>"
      ]
    },
    {
      "cell_type": "code",
      "metadata": {
        "id": "Qv16ZF8JrWPZ"
      },
      "source": [
        "import numpy as np\n",
        "import pandas as pd\n"
      ],
      "execution_count": 1,
      "outputs": []
    },
    {
      "cell_type": "code",
      "metadata": {
        "id": "jwmthYWlvuJk"
      },
      "source": [
        "data_f = pd.read_excel('datasetsample.xlsx')"
      ],
      "execution_count": 12,
      "outputs": []
    },
    {
      "cell_type": "code",
      "metadata": {
        "colab": {
          "base_uri": "https://localhost:8080/"
        },
        "id": "GhDGbaHbwJ63",
        "outputId": "4e129f8c-0850-40af-c5d1-786fa83e8dae"
      },
      "source": [
        "print(data_f.shape)"
      ],
      "execution_count": 60,
      "outputs": [
        {
          "output_type": "stream",
          "name": "stdout",
          "text": [
            "(700, 16)\n"
          ]
        }
      ]
    },
    {
      "cell_type": "markdown",
      "metadata": {
        "id": "eb5xK6XCvgwW"
      },
      "source": [
        "**TLA #10 - Aggregating Data**\n",
        "\n",
        "resample(), Grouper(), and groupby()\n"
      ]
    },
    {
      "cell_type": "markdown",
      "metadata": {
        "id": "Hg0beDOYBbK2"
      },
      "source": [
        "**resample()**\n",
        "\n",
        "In this example we used the resample() function to determine the profit by month. To do that we called the resample() function on our dataframe and used 'M' for month as the frequency attribute then we chose the column that contains dates by assigning the 'Date' column on the \"on\" attribute."
      ]
    },
    {
      "cell_type": "code",
      "metadata": {
        "colab": {
          "base_uri": "https://localhost:8080/"
        },
        "id": "C_EAFlo8vfsL",
        "outputId": "b9fc1643-28e4-4a57-d093-aa29d11027bb"
      },
      "source": [
        "\n",
        "print(data_f.resample('M',on='Date').Profit.sum())"
      ],
      "execution_count": 17,
      "outputs": [
        {
          "output_type": "stream",
          "name": "stdout",
          "text": [
            "Date\n",
            "2013-09-30     763603.03\n",
            "2013-10-31    1657795.10\n",
            "2013-11-30     765502.30\n",
            "2013-12-31     691564.08\n",
            "2014-01-31     814028.68\n",
            "2014-02-28    1148547.39\n",
            "2014-03-31     669866.87\n",
            "2014-04-30     929984.57\n",
            "2014-05-31     828640.06\n",
            "2014-06-30    1473753.82\n",
            "2014-07-31     923865.68\n",
            "2014-08-31     791066.42\n",
            "2014-09-30    1023132.24\n",
            "2014-10-31    1781985.92\n",
            "2014-11-30     604600.20\n",
            "2014-12-31    2025765.90\n",
            "Freq: M, Name: Profit, dtype: float64\n"
          ]
        }
      ]
    },
    {
      "cell_type": "markdown",
      "metadata": {
        "id": "EIKYMDZQWve0"
      },
      "source": [
        "**groupby()**\n",
        "\n",
        "grouby() is a function that groups the data into categories and allowing us to see the dataset in summarized form. In the example we grouped the dataset according to country using groupby('country') then we specified what data to be displayed in this example, we displayed the average profit per country by putting .Profit.mean() after we called the groupby function."
      ]
    },
    {
      "cell_type": "code",
      "metadata": {
        "colab": {
          "base_uri": "https://localhost:8080/"
        },
        "id": "C27o9lBNBTAj",
        "outputId": "1dffb075-2f75-4b76-fb84-4f7892ccf6cd"
      },
      "source": [
        "print(data_f.groupby('Country').Profit.mean())"
      ],
      "execution_count": 20,
      "outputs": [
        {
          "output_type": "stream",
          "name": "stdout",
          "text": [
            "Country\n",
            "Canada                      25208.777750\n",
            "France                      27007.291286\n",
            "Germany                     26288.491571\n",
            "Mexico                      20768.022214\n",
            "United States of America    21396.719036\n",
            "Name: Profit, dtype: float64\n"
          ]
        }
      ]
    },
    {
      "cell_type": "markdown",
      "metadata": {
        "id": "AlATSNXxYy7z"
      },
      "source": [
        "**grouper()**\n",
        "\n",
        "the grouper() function is used to specify a groupby instruction of an object, we can use the grouper() as an parameter in the groupby function. In the example below, we used the Grouper() function inside a groupby() function, then we specified that the Grouper's key is the date column and selected month as our frequency (pd.Grouper(key='Date', freq = 'M')) after we called the grouper() we also specified that we are also grouping by product so we put the product column as the second parameter in the groupby function, finally we specified what data to be shown by putting .Profit.sum() after the groupby function. The result, we presented the total profit of each products per month."
      ]
    },
    {
      "cell_type": "code",
      "metadata": {
        "colab": {
          "base_uri": "https://localhost:8080/"
        },
        "id": "e40UEknbYybC",
        "outputId": "75ab4909-55a5-430a-d5fe-bcd35d2162d4"
      },
      "source": [
        "print(data_f.groupby([pd.Grouper(key='Date', freq = 'M'),'Product']).Profit.sum().head(30))"
      ],
      "execution_count": 27,
      "outputs": [
        {
          "output_type": "stream",
          "name": "stdout",
          "text": [
            "Date        Product  \n",
            "2013-09-30  Amarilla      26521.730\n",
            "            Carretera    -16666.800\n",
            "            Montana      353231.500\n",
            "            Paseo        105971.870\n",
            "            VTT          237344.080\n",
            "            Velo          57200.650\n",
            "2013-10-31  Amarilla     560228.730\n",
            "            Carretera     81549.520\n",
            "            Montana       69894.720\n",
            "            Paseo        283960.030\n",
            "            VTT          157203.850\n",
            "            Velo         504958.250\n",
            "2013-11-30  Amarilla      18673.950\n",
            "            Carretera     14636.020\n",
            "            Montana      -30361.250\n",
            "            Paseo        640458.720\n",
            "            VTT           46208.300\n",
            "            Velo          75886.560\n",
            "2013-12-31  Amarilla     176525.120\n",
            "            Carretera    -40749.880\n",
            "            Montana       64993.070\n",
            "            Paseo         69462.470\n",
            "            VTT          437429.000\n",
            "            Velo         -16095.700\n",
            "2014-01-31  Amarilla     -35162.550\n",
            "            Carretera     58392.400\n",
            "            Montana      293968.400\n",
            "            Paseo        391609.335\n",
            "            VTT           71854.820\n",
            "            Velo          33366.275\n",
            "Name: Profit, dtype: float64\n"
          ]
        }
      ]
    },
    {
      "cell_type": "markdown",
      "metadata": {
        "id": "w2U4H8lpd44h"
      },
      "source": [
        "**TLA #11 - Discretization and Binning**\n",
        "\n",
        "cut(), and qcut()"
      ]
    },
    {
      "cell_type": "markdown",
      "metadata": {
        "id": "inNcaGAff_vw"
      },
      "source": [
        "**cut()**\n",
        "\n",
        "cut() is a pandas function and is used to segregate the values of an array into different bins. In the example below we used the profit from our dataframe and put it into the data object (data = [data_f['Profit']]), then we reshaped the object into a flat array (data = np.reshape(data,(700))). We then created a new object called cat, and we assigned a value from the cut function that has data and 5 as the number of bins we want to create as its arguments. When we print the value counts of cat (print(pd.value_counts(cat), '\\n')) the function automatically created 5 bins and the numner of values inside its range. We also printed the cat.codes to show what bin the value of the array assigned to. The cat.categories is used to show the inteveal index.\n"
      ]
    },
    {
      "cell_type": "code",
      "metadata": {
        "colab": {
          "base_uri": "https://localhost:8080/"
        },
        "id": "RPDEcYW3emMp",
        "outputId": "69b40d78-d690-412c-e9db-ab15b65b9c39"
      },
      "source": [
        "data = [data_f['Profit']]\n",
        "data = np.reshape(data,(700))\n",
        "cat = pd.cut(data,5)\n",
        "print(pd.value_counts(cat), '\\n')\n",
        "print(cat.codes)\n",
        "print(cat.categories)"
      ],
      "execution_count": 51,
      "outputs": [
        {
          "output_type": "stream",
          "name": "stdout",
          "text": [
            "(-40920.318, 19946.0]    502\n",
            "(19946.0, 80509.5]       130\n",
            "(80509.5, 141073.0]       46\n",
            "(141073.0, 201636.5]      14\n",
            "(201636.5, 262200.0]       8\n",
            "dtype: int64 \n",
            "\n",
            "[0 0 0 0 0 2 0 1 0 0 0 0 1 0 0 0 0 0 1 2 0 0 0 1 0 0 3 0 0 0 2 0 0 0 2 0 0\n",
            " 0 2 1 0 0 2 2 0 4 0 1 0 0 0 0 0 0 0 0 0 0 0 2 0 0 0 1 0 1 2 3 0 2 0 0 2 0\n",
            " 0 0 0 0 0 0 0 2 3 1 0 0 0 0 0 2 0 0 1 1 2 0 0 0 0 0 0 0 4 0 0 0 0 0 1 1 0\n",
            " 0 0 0 0 0 2 4 0 0 0 0 0 0 4 4 0 0 0 0 0 0 0 4 0 1 3 0 1 0 4 0 0 2 0 1 1 0\n",
            " 0 0 0 0 3 0 0 2 0 0 1 0 0 0 0 0 0 0 2 0 0 1 2 0 0 0 1 1 0 0 0 0 0 1 1 0 1\n",
            " 0 1 0 0 0 1 2 4 0 0 0 0 0 0 1 0 0 1 3 0 1 3 0 3 0 3 0 2 0 0 0 0 1 1 0 0 0\n",
            " 0 0 0 0 1 0 0 0 0 2 0 1 0 1 0 0 0 1 0 1 1 0 2 0 0 0 0 1 0 0 0 0 0 1 1 0 0\n",
            " 0 0 1 0 0 1 1 0 0 2 1 2 1 0 0 0 0 0 0 0 0 1 2 0 1 2 0 1 0 0 0 2 0 1 3 0 0\n",
            " 1 0 1 0 2 1 0 3 0 0 0 0 0 0 0 0 0 0 0 0 0 0 0 0 0 0 0 0 0 0 2 0 1 0 1 0 1\n",
            " 0 0 0 0 0 1 1 1 0 1 0 0 0 0 1 0 1 1 1 0 3 0 0 1 0 0 0 0 0 0 2 0 0 0 1 1 0\n",
            " 0 0 0 0 1 0 0 0 0 1 2 0 2 0 0 0 0 0 1 0 1 1 1 1 0 0 0 1 0 0 0 0 0 1 0 2 2\n",
            " 0 0 0 0 0 0 1 3 0 1 0 0 1 0 0 0 2 1 0 0 1 0 1 1 0 1 0 0 0 2 1 0 0 0 0 0 0\n",
            " 0 0 0 0 0 0 1 0 0 0 0 0 0 0 0 0 2 0 0 0 0 0 0 0 0 0 1 0 1 0 0 0 0 0 0 3 0\n",
            " 1 0 0 2 0 2 1 1 0 1 1 0 0 0 0 0 0 0 0 0 0 0 0 1 1 0 0 0 1 1 0 0 0 2 1 0 0\n",
            " 0 0 1 1 1 0 0 0 0 0 1 0 1 0 0 0 0 0 1 0 0 0 0 1 0 0 0 0 1 1 0 0 0 1 0 1 1\n",
            " 0 0 1 1 0 0 0 1 1 0 0 0 0 0 0 0 1 0 0 0 1 0 0 1 1 0 1 0 0 0 0 0 0 0 1 2 0\n",
            " 0 0 0 0 0 0 0 2 0 0 0 0 1 0 0 0 0 0 0 0 0 0 0 0 0 0 0 0 0 0 0 0 0 0 0 0 0\n",
            " 0 0 0 2 1 0 0 0 0 0 0 0 1 0 1 0 1 1 0 0 0 0 1 0 1 0 0 0 1 0 0 0 0 1 0 0 0\n",
            " 0 0 0 0 0 0 0 2 0 0 0 0 1 2 0 0 0 0 0 0 0 0 0 0 0 0 0 0 0 0 0 0 0 0]\n",
            "IntervalIndex([(-40920.318, 19946.0], (19946.0, 80509.5], (80509.5, 141073.0], (141073.0, 201636.5], (201636.5, 262200.0]],\n",
            "              closed='right',\n",
            "              dtype='interval[float64]')\n"
          ]
        }
      ]
    },
    {
      "cell_type": "markdown",
      "metadata": {
        "id": "wM5L7MNM5w-T"
      },
      "source": [
        "**qcut()**\n",
        "\n",
        "The qcut function is just similar to cut but it make sure that the bins it generates each has equal or close to equal values"
      ]
    },
    {
      "cell_type": "code",
      "metadata": {
        "colab": {
          "base_uri": "https://localhost:8080/"
        },
        "id": "zVsn2PrP4DfN",
        "outputId": "fa7e6c77-107e-4406-da38-b6d5c5c465cf"
      },
      "source": [
        "qcat = pd.qcut(data,q=5)\n",
        "print(pd.value_counts(qcat), '\\n')"
      ],
      "execution_count": 52,
      "outputs": [
        {
          "output_type": "stream",
          "name": "stdout",
          "text": [
            "(2163.52, 6580.8]        141\n",
            "(12992.0, 34685.0]       140\n",
            "(6580.8, 12992.0]        140\n",
            "(-40617.501, 2163.52]    140\n",
            "(34685.0, 262200.0]      139\n",
            "dtype: int64 \n",
            "\n"
          ]
        }
      ]
    },
    {
      "cell_type": "markdown",
      "metadata": {
        "id": "-xDYL0tS-Wng"
      },
      "source": [
        "**`TLA #12 - Data Sampling`**\n",
        "\n",
        "take() and sample()"
      ]
    },
    {
      "cell_type": "markdown",
      "metadata": {
        "id": "pUIm3_vY-d3K"
      },
      "source": [
        "**take()**\n",
        "\n",
        "The take() function lets us take rows from a dataframe provided that we specify the index or the location of the row we want to take. In the example below we first created an object names sample_size then we gave it an array of random numbers from 0 to the length of our dataframe (data_f), but we only need 100 of those values so we specified the size to 100. Since the length of our dataframe it will only generate random numbers from 0 to 700 and we only select 100 of those random numbers, these random numbers is now the selected rows for our sample. We then created an object that would store our samples (selected_frame), so we called data_f and used the take() function and the sample_size as the arguments. when we print the selected_frame we can now see the number of rows that is randomized and the number of rows is now 100"
      ]
    },
    {
      "cell_type": "code",
      "metadata": {
        "id": "1CndUFg0HCBQ"
      },
      "source": [
        ""
      ],
      "execution_count": null,
      "outputs": []
    },
    {
      "cell_type": "code",
      "metadata": {
        "colab": {
          "base_uri": "https://localhost:8080/"
        },
        "id": "YHkXffJb-cRe",
        "outputId": "8bdf9784-70a7-4cec-b5d1-858b72d676e9"
      },
      "source": [
        "sample_size = np.random.randint(0,len(data_f),size=100)\n",
        "\n",
        "selected_frame = data_f.take(sample_size)\n",
        "print(selected_frame)\n",
        "print(selected_frame.count())"
      ],
      "execution_count": 58,
      "outputs": [
        {
          "output_type": "stream",
          "name": "stdout",
          "text": [
            "              Segment                   Country  ... Month Name  Year\n",
            "341        Government                   Germany  ...   December  2013\n",
            "83         Government                    France  ...      April  2014\n",
            "351    Small Business                    Mexico  ...   February  2014\n",
            "677         Midmarket                   Germany  ...    October  2014\n",
            "620         Midmarket  United States of America  ...  September  2014\n",
            "..                ...                       ...  ...        ...   ...\n",
            "354        Enterprise                   Germany  ...  September  2013\n",
            "592  Channel Partners                    Mexico  ...       July  2014\n",
            "298    Small Business                    Canada  ...   December  2013\n",
            "397    Small Business                    Mexico  ...       June  2014\n",
            "86         Enterprise  United States of America  ...    October  2013\n",
            "\n",
            "[100 rows x 16 columns]\n",
            "Segment                100\n",
            "Country                100\n",
            "Product                100\n",
            "Discount Band          100\n",
            "Units Sold             100\n",
            "Manufacturing Price    100\n",
            "Sale Price             100\n",
            "Gross Sales            100\n",
            "Discounts              100\n",
            "Sales                  100\n",
            "COGS                   100\n",
            "Profit                 100\n",
            "Date                   100\n",
            "Month Number           100\n",
            "Month Name             100\n",
            "Year                   100\n",
            "dtype: int64\n"
          ]
        }
      ]
    },
    {
      "cell_type": "markdown",
      "metadata": {
        "id": "wobmV8CrI27m"
      },
      "source": [
        "**sample()**\n",
        "\n",
        "the sample() function is the simpler version of the take() function, in the sample() function we dont need to generate random numbers to get random rows from the dataframe, we just need to indicate what pecentage of the dataframe we want to get, in this case we put .30 or 30% as our sample size. so we get 210 rows from the original data frame and all the rows are randomly picked.\n",
        "\n"
      ]
    },
    {
      "cell_type": "code",
      "metadata": {
        "colab": {
          "base_uri": "https://localhost:8080/"
        },
        "id": "reBqlRfJI_xS",
        "outputId": "a2dcdcab-59aa-44ce-9c35-58872bc2a5b4"
      },
      "source": [
        "selected_frame2 = data_f.sample(frac = .30)\n",
        "print(selected_frame2)\n",
        "print(selected_frame2.count())\n"
      ],
      "execution_count": 63,
      "outputs": [
        {
          "output_type": "stream",
          "name": "stdout",
          "text": [
            "              Segment                   Country  ... Month Name  Year\n",
            "623  Channel Partners                    France  ...    October  2014\n",
            "34         Government                   Germany  ...       June  2014\n",
            "322  Channel Partners                    France  ...      April  2014\n",
            "244        Government                    Canada  ...    October  2013\n",
            "215        Government                    Canada  ...  September  2013\n",
            "..                ...                       ...  ...        ...   ...\n",
            "59         Government                    Mexico  ...      March  2014\n",
            "687  Channel Partners  United States of America  ...   December  2014\n",
            "614        Government  United States of America  ...    October  2013\n",
            "123        Government  United States of America  ...    October  2014\n",
            "421        Enterprise  United States of America  ...   December  2014\n",
            "\n",
            "[210 rows x 16 columns]\n",
            "Segment                210\n",
            "Country                210\n",
            "Product                210\n",
            "Discount Band          210\n",
            "Units Sold             210\n",
            "Manufacturing Price    210\n",
            "Sale Price             210\n",
            "Gross Sales            210\n",
            "Discounts              210\n",
            "Sales                  210\n",
            "COGS                   210\n",
            "Profit                 210\n",
            "Date                   210\n",
            "Month Number           210\n",
            "Month Name             210\n",
            "Year                   210\n",
            "dtype: int64\n"
          ]
        }
      ]
    },
    {
      "cell_type": "markdown",
      "metadata": {
        "id": "1Jn0NYstPL85"
      },
      "source": [
        "**TLA #13 - Dimensionality Reduction**\n",
        "\n",
        "\n"
      ]
    },
    {
      "cell_type": "code",
      "metadata": {
        "colab": {
          "base_uri": "https://localhost:8080/"
        },
        "id": "2b6sNjJLVOlB",
        "outputId": "176d1a35-7786-45d3-9381-a80c03432e5d"
      },
      "source": [
        "DR_data = pd.read_csv(\"https://archive.ics.uci.edu/ml/machine-learning-databases/iris/iris.data\", header=None)\n",
        "from sklearn.preprocessing import LabelEncoder\n",
        "print(DR_data)"
      ],
      "execution_count": 136,
      "outputs": [
        {
          "output_type": "stream",
          "name": "stdout",
          "text": [
            "       0    1    2    3               4\n",
            "0    5.1  3.5  1.4  0.2     Iris-setosa\n",
            "1    4.9  3.0  1.4  0.2     Iris-setosa\n",
            "2    4.7  3.2  1.3  0.2     Iris-setosa\n",
            "3    4.6  3.1  1.5  0.2     Iris-setosa\n",
            "4    5.0  3.6  1.4  0.2     Iris-setosa\n",
            "..   ...  ...  ...  ...             ...\n",
            "145  6.7  3.0  5.2  2.3  Iris-virginica\n",
            "146  6.3  2.5  5.0  1.9  Iris-virginica\n",
            "147  6.5  3.0  5.2  2.0  Iris-virginica\n",
            "148  6.2  3.4  5.4  2.3  Iris-virginica\n",
            "149  5.9  3.0  5.1  1.8  Iris-virginica\n",
            "\n",
            "[150 rows x 5 columns]\n"
          ]
        }
      ]
    },
    {
      "cell_type": "code",
      "metadata": {
        "colab": {
          "base_uri": "https://localhost:8080/"
        },
        "id": "LWeDDld6odE6",
        "outputId": "bd615e41-ddf7-4aa8-ccb4-3ec6d34af3e5"
      },
      "source": [
        "encoder = LabelEncoder()\n",
        "DR_data[5] = encoder.fit_transform(DR_data[4])\n",
        "DR_data = DR_data.drop(columns=4)\n",
        "print(DR_data)\n",
        "\n"
      ],
      "execution_count": 137,
      "outputs": [
        {
          "output_type": "stream",
          "name": "stdout",
          "text": [
            "       0    1    2    3  5\n",
            "0    5.1  3.5  1.4  0.2  0\n",
            "1    4.9  3.0  1.4  0.2  0\n",
            "2    4.7  3.2  1.3  0.2  0\n",
            "3    4.6  3.1  1.5  0.2  0\n",
            "4    5.0  3.6  1.4  0.2  0\n",
            "..   ...  ...  ...  ... ..\n",
            "145  6.7  3.0  5.2  2.3  2\n",
            "146  6.3  2.5  5.0  1.9  2\n",
            "147  6.5  3.0  5.2  2.0  2\n",
            "148  6.2  3.4  5.4  2.3  2\n",
            "149  5.9  3.0  5.1  1.8  2\n",
            "\n",
            "[150 rows x 5 columns]\n"
          ]
        }
      ]
    },
    {
      "cell_type": "code",
      "metadata": {
        "colab": {
          "base_uri": "https://localhost:8080/"
        },
        "id": "av_jFkv4tJAk",
        "outputId": "ef9dfc01-cf4b-49d8-fea3-f9c00ebed746"
      },
      "source": [
        "from sklearn.preprocessing import StandardScaler\n",
        "scaler = StandardScaler()\n",
        "x = DR_data.loc[:,[0,1,2,3,5]].values\n",
        "x = scaler.fit_transform(x) \n",
        "\n",
        "x_features = ['feature'+str(i) for i in range(x.shape[1])]\n",
        "\n",
        "normalized_df = pd.DataFrame(x,columns=x_features)\n",
        "\n",
        "print(normalized_df)"
      ],
      "execution_count": 142,
      "outputs": [
        {
          "output_type": "stream",
          "name": "stdout",
          "text": [
            "     feature0  feature1  feature2  feature3  feature4\n",
            "0   -0.900681  1.032057 -1.341272 -1.312977 -1.224745\n",
            "1   -1.143017 -0.124958 -1.341272 -1.312977 -1.224745\n",
            "2   -1.385353  0.337848 -1.398138 -1.312977 -1.224745\n",
            "3   -1.506521  0.106445 -1.284407 -1.312977 -1.224745\n",
            "4   -1.021849  1.263460 -1.341272 -1.312977 -1.224745\n",
            "..        ...       ...       ...       ...       ...\n",
            "145  1.038005 -0.124958  0.819624  1.447956  1.224745\n",
            "146  0.553333 -1.281972  0.705893  0.922064  1.224745\n",
            "147  0.795669 -0.124958  0.819624  1.053537  1.224745\n",
            "148  0.432165  0.800654  0.933356  1.447956  1.224745\n",
            "149  0.068662 -0.124958  0.762759  0.790591  1.224745\n",
            "\n",
            "[150 rows x 5 columns]\n"
          ]
        }
      ]
    },
    {
      "cell_type": "code",
      "metadata": {
        "colab": {
          "base_uri": "https://localhost:8080/"
        },
        "id": "xzyeVluV2S3r",
        "outputId": "ffea1c7d-3f94-4369-fdbf-887a3b790a50"
      },
      "source": [
        "from sklearn.decomposition import PCA\n",
        "pca_data = PCA(n_components=2)\n",
        "principalComponnets_data = pca_data.fit_transform(x)\n",
        "pca_res = pd.DataFrame(data = principalComponnets_data, columns=['PC1','PC2'])\n",
        "print(pca_res)\n"
      ],
      "execution_count": 146,
      "outputs": [
        {
          "output_type": "stream",
          "name": "stdout",
          "text": [
            "          PC1       PC2\n",
            "0   -2.576198  0.498650\n",
            "1   -2.419715 -0.660518\n",
            "2   -2.662302 -0.326611\n",
            "3   -2.605790 -0.582925\n",
            "4   -2.683088  0.666354\n",
            "..        ...       ...\n",
            "145  2.232927  0.385906\n",
            "146  1.962246 -0.904731\n",
            "147  1.928766  0.266655\n",
            "148  1.808983  1.013922\n",
            "149  1.445207 -0.028112\n",
            "\n",
            "[150 rows x 2 columns]\n"
          ]
        }
      ]
    },
    {
      "cell_type": "code",
      "metadata": {
        "colab": {
          "base_uri": "https://localhost:8080/"
        },
        "id": "aYFCx6tt35Io",
        "outputId": "d4854582-2f4f-48d8-8dee-f1069cd8269e"
      },
      "source": [
        "print('Explained variation per principal component: {}'.format(pca_data.explained_variance_ratio_))"
      ],
      "execution_count": 147,
      "outputs": [
        {
          "output_type": "stream",
          "name": "stdout",
          "text": [
            "Explained variation per principal component: [0.76590853 0.18427757]\n"
          ]
        }
      ]
    },
    {
      "cell_type": "markdown",
      "metadata": {
        "id": "rHyXiWVnVIr6"
      },
      "source": [
        "**TLA #14 - Feature Encoding**\n",
        "\n",
        "The Feature Encoding is a crucial process in data preprocessing that turns categorical data in to numerical, in this way machine learning models can interpret the data. In the example below we first imported the LabelEncoder from sklearn.preprocessing  then we copied the data frame in to a new data frame called data_copy, we created a new object called encoder that holds our LabelEncoder() function.  We called the data_copy data frame and created a new column called Disocunt_Code, then we stored the integer equivalent of Discount Band in the Discount_Code using the encoder.fit_transform and used ata_f['Discount Band'] as its argument. We printed the data_copy using group by and mean to show the equivalent code of the discount band."
      ]
    },
    {
      "cell_type": "code",
      "metadata": {
        "id": "9aOdi2mIPTpc"
      },
      "source": [
        "from sklearn.preprocessing import LabelEncoder\n",
        "\n",
        "data_copy = data_f.copy()\n",
        "\n"
      ],
      "execution_count": 99,
      "outputs": []
    },
    {
      "cell_type": "code",
      "metadata": {
        "colab": {
          "base_uri": "https://localhost:8080/"
        },
        "id": "wGkYKJKVP8wL",
        "outputId": "f56cdb15-8bd0-4cdc-c191-4fe053756fb5"
      },
      "source": [
        "encoder = LabelEncoder()\n",
        "\n",
        "data_copy['Discount_Code'] = encoder.fit_transform(data_f['Discount Band'])\n",
        "print(data_copy.groupby('Discount Band').Discount_Code.mean().to_frame('Code'),'\\n')\n",
        "print(data_copy.head(30))"
      ],
      "execution_count": 111,
      "outputs": [
        {
          "output_type": "stream",
          "name": "stdout",
          "text": [
            "               Code\n",
            "Discount Band      \n",
            "High              0\n",
            "Low               1\n",
            "Medium            2\n",
            "None              3 \n",
            "\n",
            "             Segment                   Country  ...  Year Discount_Code\n",
            "0         Government                    Canada  ...  2014             3\n",
            "1         Government                   Germany  ...  2014             3\n",
            "2          Midmarket                    France  ...  2014             3\n",
            "3          Midmarket                   Germany  ...  2014             3\n",
            "4          Midmarket                    Mexico  ...  2014             3\n",
            "5         Government                   Germany  ...  2014             3\n",
            "6          Midmarket                   Germany  ...  2014             3\n",
            "7   Channel Partners                    Canada  ...  2014             3\n",
            "8         Government                    France  ...  2014             3\n",
            "9   Channel Partners                   Germany  ...  2014             3\n",
            "10         Midmarket                    Mexico  ...  2014             3\n",
            "11        Enterprise                    Canada  ...  2014             3\n",
            "12    Small Business                    Mexico  ...  2014             3\n",
            "13        Government                   Germany  ...  2014             3\n",
            "14        Enterprise                    Canada  ...  2013             3\n",
            "15         Midmarket  United States of America  ...  2014             3\n",
            "16        Government                    Canada  ...  2014             3\n",
            "17         Midmarket                    Mexico  ...  2014             3\n",
            "18  Channel Partners                    Canada  ...  2014             3\n",
            "19        Government                   Germany  ...  2014             3\n",
            "20  Channel Partners                   Germany  ...  2014             3\n",
            "21        Government                    Mexico  ...  2014             3\n",
            "22         Midmarket                    France  ...  2013             3\n",
            "23    Small Business                    Mexico  ...  2013             3\n",
            "24         Midmarket                    Mexico  ...  2014             3\n",
            "25        Government  United States of America  ...  2014             3\n",
            "26        Government                    Canada  ...  2013             3\n",
            "27  Channel Partners  United States of America  ...  2013             3\n",
            "28         Midmarket                    Canada  ...  2013             3\n",
            "29        Government                    Canada  ...  2014             3\n",
            "\n",
            "[30 rows x 17 columns]\n"
          ]
        }
      ]
    },
    {
      "cell_type": "markdown",
      "metadata": {
        "id": "sD7SV4qHAAsO"
      },
      "source": [
        "**repalce()**\n",
        "\n",
        "\n",
        "in this implementation out data set consists of age and sex columns the goal is to convert the categorical variable sex in to a numeric one"
      ]
    },
    {
      "cell_type": "code",
      "metadata": {
        "colab": {
          "base_uri": "https://localhost:8080/"
        },
        "id": "40m-eDJL5-KM",
        "outputId": "502f3d5c-7ab6-4231-df0f-c5c412a7e31e"
      },
      "source": [
        "datanew = {'age' : [10,11,12,13,14,15,16,17], \n",
        "           'sex' : ['male','female','female','female','female','male','male','female']}\n",
        "new_df = pd.DataFrame(datanew)\n",
        "print(new_df)"
      ],
      "execution_count": 153,
      "outputs": [
        {
          "output_type": "stream",
          "name": "stdout",
          "text": [
            "   age     sex\n",
            "0   10    male\n",
            "1   11  female\n",
            "2   12  female\n",
            "3   13  female\n",
            "4   14  female\n",
            "5   15    male\n",
            "6   16    male\n",
            "7   17  female\n"
          ]
        }
      ]
    },
    {
      "cell_type": "markdown",
      "metadata": {
        "id": "g3Zud_uMAeE1"
      },
      "source": [
        "We created our dictionary first that indicates the male as 0 and female as 1,\n",
        "then we used replace() function to replace the data in the sex column with the following values. "
      ]
    },
    {
      "cell_type": "code",
      "metadata": {
        "colab": {
          "base_uri": "https://localhost:8080/"
        },
        "id": "ataFZXiM7F2r",
        "outputId": "e2550bca-8da8-4502-ede0-dcf3fccb6c48"
      },
      "source": [
        "rep = {'sex': {'male': 0,'female': 1}}\n",
        "\n",
        "new_df = new_df.replace(rep)\n",
        "\n",
        "\n",
        "print(new_df)"
      ],
      "execution_count": 151,
      "outputs": [
        {
          "output_type": "stream",
          "name": "stdout",
          "text": [
            "   age  sex\n",
            "0   10    0\n",
            "1   11    1\n",
            "2   12    1\n",
            "3   13    1\n",
            "4   14    1\n",
            "5   15    0\n",
            "6   16    0\n",
            "7   17    1\n"
          ]
        }
      ]
    }
  ]
}